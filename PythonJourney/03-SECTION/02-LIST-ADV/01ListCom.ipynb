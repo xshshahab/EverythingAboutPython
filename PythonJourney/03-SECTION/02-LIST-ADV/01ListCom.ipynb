{
 "cells": [
  {
   "cell_type": "code",
   "execution_count": 1,
   "id": "eaf62b03",
   "metadata": {},
   "outputs": [
    {
     "name": "stdout",
     "output_type": "stream",
     "text": [
      "[0, 1, 4, 9, 16, 25, 36, 49, 64, 81]\n"
     ]
    }
   ],
   "source": [
    "## List comprehension\n",
    "\n",
    "lst = []\n",
    "for x in range(10):\n",
    "    lst.append(x**2)\n",
    "\n",
    "print(lst)"
   ]
  },
  {
   "cell_type": "code",
   "execution_count": 2,
   "id": "958c3cd3",
   "metadata": {},
   "outputs": [
    {
     "data": {
      "text/plain": [
       "[0, 1, 4, 9, 16, 25, 36, 49, 64, 81]"
      ]
     },
     "execution_count": 2,
     "metadata": {},
     "output_type": "execute_result"
    }
   ],
   "source": [
    "[x**2 for x in range(10)]"
   ]
  },
  {
   "cell_type": "markdown",
   "id": "b4b7a089",
   "metadata": {},
   "source": [
    "## List Comprehension\n",
    "\n",
    "##### Basic Syntax \n",
    "\n",
    "```python\n",
    "    [expression for item in iterable]\n",
    "```\n",
    "\n",
    "##### With conditional logic\n",
    "```python \n",
    "    [expression for item in iterable if consdition]\n",
    "```"
   ]
  },
  {
   "cell_type": "code",
   "execution_count": 4,
   "id": "cfaf124e",
   "metadata": {},
   "outputs": [
    {
     "name": "stdout",
     "output_type": "stream",
     "text": [
      "[0, 1, 4, 9, 16, 25, 36, 49, 64, 81]\n"
     ]
    }
   ],
   "source": [
    "#### Basic List Comprehension\n",
    "\n",
    "square = [num ** 2 for num in range(10)]\n",
    "print(square)"
   ]
  },
  {
   "cell_type": "code",
   "execution_count": 8,
   "id": "ebce059c",
   "metadata": {},
   "outputs": [
    {
     "name": "stdout",
     "output_type": "stream",
     "text": [
      "[0, 2, 4, 6, 8]\n",
      "[0, 2, 4, 6, 8]\n"
     ]
    }
   ],
   "source": [
    "## List Comprehension with condition\n",
    "\n",
    "normal_lst = []\n",
    "for i in range(10):\n",
    "    if i % 2 == 0:\n",
    "        normal_lst.append(i)\n",
    "    \n",
    "print(normal_lst) # [0, 2, 4, 6, 8]\n",
    "\n",
    "\n",
    "comprehensed_list = [i for i in range(10) if i % 2 == 0 ]\n",
    "print(comprehensed_list)\n"
   ]
  },
  {
   "cell_type": "markdown",
   "id": "e42a4af2",
   "metadata": {},
   "source": [
    "### Nested List Comprehension\n",
    "\n",
    "- Syntax\n",
    "```python\n",
    "    [expression for item1 in iterable1 for item2 in iterable2]\n",
    "```"
   ]
  },
  {
   "cell_type": "code",
   "execution_count": 10,
   "id": "27b94cce",
   "metadata": {},
   "outputs": [
    {
     "name": "stdout",
     "output_type": "stream",
     "text": [
      "[['a', 1], ['a', 2], ['a', 3], ['a', 4], ['a', 5], ['b', 1], ['b', 2], ['b', 3], ['b', 4], ['b', 5], ['c', 1], ['c', 2], ['c', 3], ['c', 4], ['c', 5], ['d', 1], ['d', 2], ['d', 3], ['d', 4], ['d', 5], ['e', 1], ['e', 2], ['e', 3], ['e', 4], ['e', 5]]\n",
      "<class 'list'>\n",
      "[('a', 1), ('a', 2), ('a', 3), ('a', 4), ('a', 5), ('b', 1), ('b', 2), ('b', 3), ('b', 4), ('b', 5), ('c', 1), ('c', 2), ('c', 3), ('c', 4), ('c', 5), ('d', 1), ('d', 2), ('d', 3), ('d', 4), ('d', 5), ('e', 1), ('e', 2), ('e', 3), ('e', 4), ('e', 5)]\n",
      "<class 'list'>\n"
     ]
    }
   ],
   "source": [
    "lst1 = [\"a\", \"b\", \"c\", \"d\", \"e\"]\n",
    "lst2 = [1, 2, 3, 4, 5]\n",
    "\n",
    "pair = [[i,j] for i in lst1 for j in lst2]\n",
    "print(pair)\n",
    "print(type(pair))\n",
    "\n",
    "\n",
    "pair2 = [(i,j) for i in lst1 for j in lst2]\n",
    "print(pair2)\n",
    "print(type(pair2))"
   ]
  },
  {
   "cell_type": "code",
   "execution_count": 12,
   "id": "44fd319d",
   "metadata": {},
   "outputs": [
    {
     "name": "stdout",
     "output_type": "stream",
     "text": [
      "[5, 5, 6, 4, 13]\n"
     ]
    }
   ],
   "source": [
    "## List Comprehension with function calls\n",
    "\n",
    "words = [\"Hello\", \"world\", \"python\", \"list\", \"comprehension\"]\n",
    "\n",
    "lengths = [len(word) for word in words]\n",
    "\n",
    "print(lengths)"
   ]
  }
 ],
 "metadata": {
  "kernelspec": {
   "display_name": ".venv",
   "language": "python",
   "name": "python3"
  },
  "language_info": {
   "codemirror_mode": {
    "name": "ipython",
    "version": 3
   },
   "file_extension": ".py",
   "mimetype": "text/x-python",
   "name": "python",
   "nbconvert_exporter": "python",
   "pygments_lexer": "ipython3",
   "version": "3.13.5"
  }
 },
 "nbformat": 4,
 "nbformat_minor": 5
}
