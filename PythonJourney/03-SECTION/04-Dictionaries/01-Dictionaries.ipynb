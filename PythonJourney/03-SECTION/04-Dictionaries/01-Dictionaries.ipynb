{
 "cells": [
  {
   "cell_type": "code",
   "execution_count": 3,
   "id": "0c544ad0",
   "metadata": {},
   "outputs": [
    {
     "name": "stdout",
     "output_type": "stream",
     "text": [
      "<class 'dict'>\n",
      "<class 'dict'>\n"
     ]
    }
   ],
   "source": [
    "## Creating an empty Dictionaries\n",
    "\n",
    "# Method 01\n",
    "empty_dict = {}\n",
    "print(type(empty_dict))\n",
    "\n",
    "# Method 02\n",
    "empty_dicts = dict()\n",
    "print(type(empty_dicts))"
   ]
  },
  {
   "cell_type": "code",
   "execution_count": 8,
   "id": "7aeacef2",
   "metadata": {},
   "outputs": [
    {
     "name": "stdout",
     "output_type": "stream",
     "text": [
      "{'name': 'xsh_shahab', 'age': 21, 'gender': 'Male'}\n"
     ]
    }
   ],
   "source": [
    "## Creating Dictionaries with values.\n",
    "\n",
    "students = {\n",
    "    \"name\": \"xsh_shahab\",\n",
    "    \"age\" : 21,\n",
    "    \"gender\": \"Male\"\n",
    "}\n",
    "\n",
    "print(students)"
   ]
  },
  {
   "cell_type": "code",
   "execution_count": 12,
   "id": "b6797a74",
   "metadata": {},
   "outputs": [
    {
     "name": "stdout",
     "output_type": "stream",
     "text": [
      "{'name': 'XshShahab', 'age': 21}\n"
     ]
    }
   ],
   "source": [
    "### Common Error\n",
    "# Always use different unique key.\n",
    "  \n",
    "students = {\n",
    "    \"name\": \"xsh_shahab\",\n",
    "    \"age\" : 21,\n",
    "    \"name\": \"XshShahab\"\n",
    "}\n",
    "\n",
    "print(students)"
   ]
  },
  {
   "cell_type": "code",
   "execution_count": 14,
   "id": "62ffa320",
   "metadata": {},
   "outputs": [
    {
     "name": "stdout",
     "output_type": "stream",
     "text": [
      "{'name': 'xsh_shahab', 'age': 21, 'gender': 'Male'}\n",
      "xsh_shahab\n",
      "21\n"
     ]
    }
   ],
   "source": [
    "## Accessing Dictionaries Elements\n",
    "\n",
    "students = {\n",
    "    \"name\": \"xsh_shahab\",\n",
    "    \"age\" : 21,\n",
    "    \"gender\": \"Male\"\n",
    "}\n",
    "\n",
    "print(students)\n",
    "print(students[\"name\"])\n",
    "print(students[\"age\"])"
   ]
  },
  {
   "cell_type": "code",
   "execution_count": 20,
   "id": "2f4f25bc",
   "metadata": {},
   "outputs": [
    {
     "name": "stdout",
     "output_type": "stream",
     "text": [
      "{'name': 'xsh_shahab', 'age': 21, 'gender': 'Male'}\n",
      "xsh_shahab\n",
      "21\n",
      "None\n",
      "Not Available\n"
     ]
    }
   ],
   "source": [
    "## Accessing Dictionaries Elements using get() method which is by default provided by python in dictionaries.\n",
    "\n",
    "students = {\n",
    "    \"name\": \"xsh_shahab\",\n",
    "    \"age\" : 21,\n",
    "    \"gender\": \"Male\"\n",
    "}\n",
    "\n",
    "print(students)\n",
    "print(students.get(\"name\"))\n",
    "print(students.get(\"age\"))\n",
    "\n",
    "# If the key is not exist then we can pass the default value\n",
    "print(students.get(\"address\")) # None\n",
    "print(students.get(\"address\", \"Not Available\"))"
   ]
  },
  {
   "cell_type": "code",
   "execution_count": null,
   "id": "5b04961e",
   "metadata": {},
   "outputs": [
    {
     "name": "stdout",
     "output_type": "stream",
     "text": [
      "None\n",
      "None\n"
     ]
    },
    {
     "ename": "KeyError",
     "evalue": "'first_name'",
     "output_type": "error",
     "traceback": [
      "\u001b[31m---------------------------------------------------------------------------\u001b[39m",
      "\u001b[31mKeyError\u001b[39m                                  Traceback (most recent call last)",
      "\u001b[36mCell\u001b[39m\u001b[36m \u001b[39m\u001b[32mIn[19]\u001b[39m\u001b[32m, line 13\u001b[39m\n\u001b[32m     10\u001b[39m \u001b[38;5;28mprint\u001b[39m(students.get(\u001b[33m\"\u001b[39m\u001b[33mmy_age\u001b[39m\u001b[33m\"\u001b[39m))\n\u001b[32m     11\u001b[39m \u001b[38;5;28mprint\u001b[39m(students.get(\u001b[33m\"\u001b[39m\u001b[33mis_married\u001b[39m\u001b[33m\"\u001b[39m))\n\u001b[32m---> \u001b[39m\u001b[32m13\u001b[39m \u001b[38;5;28mprint\u001b[39m(\u001b[43mstudents\u001b[49m\u001b[43m[\u001b[49m\u001b[33;43m\"\u001b[39;49m\u001b[33;43mfirst_name\u001b[39;49m\u001b[33;43m\"\u001b[39;49m\u001b[43m]\u001b[49m)\n\u001b[32m     14\u001b[39m \u001b[38;5;28mprint\u001b[39m(students[\u001b[33m\"\u001b[39m\u001b[33mlast_name\u001b[39m\u001b[33m\"\u001b[39m])\n",
      "\u001b[31mKeyError\u001b[39m: 'first_name'"
     ]
    }
   ],
   "source": [
    "## Accessing Dictionaries Elements ERROR\n",
    "\n",
    "students = {\n",
    "    \"name\": \"xsh_shahab\",\n",
    "    \"age\" : 21,\n",
    "    \"gender\": \"Male\"\n",
    "}\n",
    "\n",
    "\n",
    "print(students.get(\"my_age\")) # None\n",
    "print(students.get(\"is_married\")) # None\n",
    "\n",
    "print(students[\"first_name\"]) # ERROR\n",
    "print(students[\"last_name\"]) # ERROR\n"
   ]
  },
  {
   "cell_type": "code",
   "execution_count": 25,
   "id": "6c476268",
   "metadata": {},
   "outputs": [
    {
     "name": "stdout",
     "output_type": "stream",
     "text": [
      "Original user : {'username': 'xsh_shahab', 'isMarried': False, 'age': 19}\n",
      "Modifying user : {'username': 'xsh_shahab', 'isMarried': False, 'age': 21}\n",
      "Adding new key in user : {'username': 'xsh_shahab', 'isMarried': False, 'age': 21, 'location': 'India'}\n"
     ]
    }
   ],
   "source": [
    "## Modifying Dictionaries Elements \n",
    "## Dictionaries are mutable, so you can add, update or delete elements. \n",
    "\n",
    "\n",
    "user = {\n",
    "    \"username\" : \"xsh_shahab\",\n",
    "    \"isMarried\": False,\n",
    "    \"age\": 19\n",
    "}\n",
    "\n",
    "print(f\"Original user : {user}\")\n",
    "\n",
    "user[\"age\"] = 21\n",
    "print(f\"Modifying user : {user}\")\n",
    "\n",
    "user[\"location\"] = \"India\"\n",
    "print(f\"Adding new key in user : {user}\")"
   ]
  },
  {
   "cell_type": "code",
   "execution_count": 26,
   "id": "0e27fcbd",
   "metadata": {},
   "outputs": [
    {
     "name": "stdout",
     "output_type": "stream",
     "text": [
      "{'username': 'xsh_shahab', 'isMarried': False, 'age': 19}\n",
      "{'username': 'xsh_shahab', 'age': 19}\n"
     ]
    }
   ],
   "source": [
    "## Delete Elements in Dictionaries \n",
    "\n",
    "user = {\n",
    "    \"username\" : \"xsh_shahab\",\n",
    "    \"isMarried\": False,\n",
    "    \"age\": 19\n",
    "}\n",
    "\n",
    "print(user)\n",
    "del user[\"isMarried\"]\n",
    "print(user)"
   ]
  }
 ],
 "metadata": {
  "kernelspec": {
   "display_name": ".venv",
   "language": "python",
   "name": "python3"
  },
  "language_info": {
   "codemirror_mode": {
    "name": "ipython",
    "version": 3
   },
   "file_extension": ".py",
   "mimetype": "text/x-python",
   "name": "python",
   "nbconvert_exporter": "python",
   "pygments_lexer": "ipython3",
   "version": "3.13.6"
  }
 },
 "nbformat": 4,
 "nbformat_minor": 5
}
