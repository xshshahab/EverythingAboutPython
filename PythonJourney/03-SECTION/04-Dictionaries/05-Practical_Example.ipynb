{
 "cells": [
  {
   "cell_type": "code",
   "execution_count": null,
   "id": "e73fd4c6",
   "metadata": {},
   "outputs": [
    {
     "name": "stdout",
     "output_type": "stream",
     "text": [
      "{1: 1, 2: 2, 3: 3, 4: 4}\n"
     ]
    }
   ],
   "source": [
    "## Practical Example Dictionaries\n",
    "\n",
    "## use a dictionary to count the frequency of elements in list\n",
    "\n",
    "numbers = [1, 2, 2, 3, 3, 3, 4, 4, 4, 4]\n",
    "frequency = {}\n",
    "\n",
    "for number in numbers:\n",
    "    if number in frequency:\n",
    "        frequency[number] += 1\n",
    "    else:\n",
    "        frequency[number] = 1\n",
    "\n",
    "print(frequency)"
   ]
  },
  {
   "cell_type": "code",
   "execution_count": 4,
   "id": "4bac9051",
   "metadata": {},
   "outputs": [
    {
     "name": "stdout",
     "output_type": "stream",
     "text": [
      "{'a': 1, 'b': 2, 'c': 3, 'd': 4}\n"
     ]
    }
   ],
   "source": [
    "## Merge two dictionary into one dictionary\n",
    "\n",
    "dict1 = {\"a\":1, \"b\":2}\n",
    "dict2 = {\"c\":3, \"d\":4}\n",
    "\n",
    "merge_dict = {**dict1, **dict2}\n",
    "\n",
    "print(merge_dict)"
   ]
  }
 ],
 "metadata": {
  "kernelspec": {
   "display_name": ".venv",
   "language": "python",
   "name": "python3"
  },
  "language_info": {
   "codemirror_mode": {
    "name": "ipython",
    "version": 3
   },
   "file_extension": ".py",
   "mimetype": "text/x-python",
   "name": "python",
   "nbconvert_exporter": "python",
   "pygments_lexer": "ipython3",
   "version": "3.13.6"
  }
 },
 "nbformat": 4,
 "nbformat_minor": 5
}
