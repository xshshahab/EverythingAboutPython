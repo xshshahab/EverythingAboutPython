{
 "cells": [
  {
   "cell_type": "code",
   "execution_count": 2,
   "id": "3c16c77c",
   "metadata": {},
   "outputs": [
    {
     "name": "stdout",
     "output_type": "stream",
     "text": [
      "username\n",
      "bio\n",
      "isManager\n"
     ]
    }
   ],
   "source": [
    "## Iterating Over Dictionaries\n",
    "### You can use loops to iterate over dictionaries keys, values and items.\n",
    "\n",
    "user = {\n",
    "    \"username\" : \"xsh_shahab\",\n",
    "    \"bio\": \"Software Developer\",\n",
    "    \"isManager\": False,\n",
    "}\n",
    "\n",
    "## for iterating over keys\n",
    "\n",
    "for keys in user.keys():\n",
    "    print(keys)"
   ]
  },
  {
   "cell_type": "code",
   "execution_count": null,
   "id": "26545244",
   "metadata": {},
   "outputs": [
    {
     "name": "stdout",
     "output_type": "stream",
     "text": [
      "xsh_shahab\n",
      "Software Developer\n",
      "False\n"
     ]
    }
   ],
   "source": [
    "user = {\n",
    "    \"username\" : \"xsh_shahab\",\n",
    "    \"bio\": \"Software Developer\",\n",
    "    \"isManager\": False,\n",
    "}\n",
    "\n",
    "## for iterating over values\n",
    "\n",
    "for value in user.values():\n",
    "    print(value)"
   ]
  },
  {
   "cell_type": "code",
   "execution_count": 6,
   "id": "e323eb71",
   "metadata": {},
   "outputs": [
    {
     "name": "stdout",
     "output_type": "stream",
     "text": [
      "('username', 'xsh_shahab')\n",
      "('bio', 'Software Developer')\n",
      "('isManager', False)\n",
      "----------------------------------------\n",
      "Key username : value xsh_shahab\n",
      "Key bio : value Software Developer\n",
      "Key isManager : value False\n"
     ]
    }
   ],
   "source": [
    "user = {\n",
    "    \"username\" : \"xsh_shahab\",\n",
    "    \"bio\": \"Software Developer\",\n",
    "    \"isManager\": False,\n",
    "}\n",
    "\n",
    "## for iterating over items\n",
    "\n",
    "for item in user.items():\n",
    "    print(item)\n",
    "\n",
    "print(\"----------------------------------------\")\n",
    "\n",
    "for key,value in user.items():\n",
    "    print(f\"Key {key} : value {value}\")"
   ]
  }
 ],
 "metadata": {
  "kernelspec": {
   "display_name": ".venv",
   "language": "python",
   "name": "python3"
  },
  "language_info": {
   "codemirror_mode": {
    "name": "ipython",
    "version": 3
   },
   "file_extension": ".py",
   "mimetype": "text/x-python",
   "name": "python",
   "nbconvert_exporter": "python",
   "pygments_lexer": "ipython3",
   "version": "3.13.6"
  }
 },
 "nbformat": 4,
 "nbformat_minor": 5
}
