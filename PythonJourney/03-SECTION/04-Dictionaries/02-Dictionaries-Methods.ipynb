{
 "cells": [
  {
   "cell_type": "code",
   "execution_count": 5,
   "id": "222482c0",
   "metadata": {},
   "outputs": [
    {
     "name": "stdout",
     "output_type": "stream",
     "text": [
      "dict_keys(['username', 'age', 'bio', 'isMarried'])\n",
      "dict_values(['xsh_shahab', 19, 'Software Developer', False])\n",
      "dict_items([('username', 'xsh_shahab'), ('age', 19), ('bio', 'Software Developer'), ('isMarried', False)])\n"
     ]
    }
   ],
   "source": [
    "# Dictionaries Methods\n",
    "\n",
    "\n",
    "user = {\n",
    "    \"username\" : \"xsh_shahab\",\n",
    "    \"age\": 19,\n",
    "    \"bio\": \"Software Developer\",\n",
    "    \"isMarried\": False,\n",
    "}\n",
    "\n",
    "\n",
    "# Keys and values methods\n",
    "\n",
    "user_keys = user.keys()   ## get all the keys\n",
    "print(user_keys)\n",
    "\n",
    "user_values = user.values()  ## get all the values\n",
    "print(user_values)\n",
    "\n",
    "\n",
    "## items methods => get all the key values pair\n",
    "\n",
    "user_items = user.items()\n",
    "print(user_items)\n"
   ]
  },
  {
   "cell_type": "code",
   "execution_count": null,
   "id": "74b67800",
   "metadata": {},
   "outputs": [],
   "source": []
  },
  {
   "cell_type": "code",
   "execution_count": null,
   "id": "2ff14161",
   "metadata": {},
   "outputs": [
    {
     "name": "stdout",
     "output_type": "stream",
     "text": [
      "{'name': 'xsh_shahab', 'age': 21, 'gender': 'Male'}\n",
      "{'name': 'xsh_shahab', 'age': 21, 'gender': 'Male'}\n",
      "{'name': 'xsh-shahab', 'age': 21, 'gender': 'Male'}\n",
      "{'name': 'xsh-shahab', 'age': 21, 'gender': 'Male'}\n",
      "{'name': 'XshShahab', 'age': 21, 'gender': 'Male'}\n",
      "{'name': 'XshShahab', 'age': 21, 'gender': 'Male'}\n"
     ]
    }
   ],
   "source": [
    "## shallow copy\n",
    "\n",
    "student = {\n",
    "    \"name\": \"xsh_shahab\",\n",
    "    \"age\" : 21,\n",
    "    \"gender\": \"Male\"\n",
    "}\n",
    "\n",
    "student_copy = student\n",
    "print(student)\n",
    "print(student_copy)\n",
    "\n",
    "\n",
    "student[\"name\"] = \"xsh-shahab\"\n",
    "print(student)\n",
    "print(student_copy) \n",
    "\n",
    "\n",
    "## use copy methods to copy the data\n",
    "\n",
    "student_cp = student.copy()\n",
    "student[\"name\"] = \"XshShahab\"\n",
    "print(student)\n",
    "print(student_copy) \n",
    "\n",
    "\n"
   ]
  }
 ],
 "metadata": {
  "kernelspec": {
   "display_name": ".venv",
   "language": "python",
   "name": "python3"
  },
  "language_info": {
   "codemirror_mode": {
    "name": "ipython",
    "version": 3
   },
   "file_extension": ".py",
   "mimetype": "text/x-python",
   "name": "python",
   "nbconvert_exporter": "python",
   "pygments_lexer": "ipython3",
   "version": "3.13.6"
  }
 },
 "nbformat": 4,
 "nbformat_minor": 5
}
