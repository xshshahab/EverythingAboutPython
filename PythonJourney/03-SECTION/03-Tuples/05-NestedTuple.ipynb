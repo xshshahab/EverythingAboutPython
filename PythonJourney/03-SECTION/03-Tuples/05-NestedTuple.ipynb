{
 "cells": [
  {
   "cell_type": "markdown",
   "id": "6a818dd3",
   "metadata": {},
   "source": [
    "##  What is a Nested Tuple?\n",
    "\n",
    "A **nested tuple** is a **tuple that contains another tuple (or tuples) as one or more of its elements**.\n",
    "\n",
    "---\n",
    "\n",
    "### 📌 Syntax:\n",
    "\n",
    "```python\n",
    "outer_tuple = (value1, value2, (inner1, inner2), value3)\n",
    "```\n",
    "\n",
    "Here, `(inner1, inner2)` is a **nested tuple** inside `outer_tuple`.\n",
    "\n",
    "---\n",
    "\n",
    "### ✅ Example:\n",
    "\n",
    "```python\n",
    "nested_tuple = (1, 2, (3, 4, 5), 6)\n",
    "```\n",
    "\n",
    "* Element at index `2` → `(3, 4, 5)` is a **tuple inside a tuple** → this is the nested part.\n",
    "\n",
    "---\n",
    "\n",
    "### 🔍 Accessing Elements in a Nested Tuple\n",
    "\n",
    "You can use **indexing** to access nested elements.\n",
    "\n",
    "```python\n",
    "nested_tuple = (1, 2, (3, 4, 5), 6)\n",
    "\n",
    "# Access the inner tuple\n",
    "print(nested_tuple[2])        # Output: (3, 4, 5)\n",
    "\n",
    "# Access an element inside the inner tuple\n",
    "print(nested_tuple[2][1])     # Output: 4\n",
    "```\n",
    "\n",
    "---\n",
    "\n",
    "### 🔄 Why Use Nested Tuples?\n",
    "\n",
    "* To store complex structured data.\n",
    "* When elements are grouped logically.\n",
    "* Useful in situations like storing coordinates, database records, etc.\n",
    "\n",
    "---\n",
    "\n",
    "### ✅ Another Example:\n",
    "\n",
    "```python\n",
    "student_info = (\"John\", 21, (\"Math\", \"Science\", \"History\"))\n",
    "print(student_info[2][0])   # Output: Math\n",
    "```\n",
    "\n",
    "Here, `\"Math\", \"Science\", \"History\"` is a **nested tuple** representing subjects."
   ]
  },
  {
   "cell_type": "code",
   "execution_count": 5,
   "id": "02c54ed1",
   "metadata": {},
   "outputs": [
    {
     "data": {
      "text/plain": [
       "[1, 2]"
      ]
     },
     "execution_count": 5,
     "metadata": {},
     "output_type": "execute_result"
    }
   ],
   "source": [
    "## Nested List\n",
    "\n",
    "lst = [[1,2,4], [\"Hello\", \"Gojo\"], [\"Sukuna\", 3.13, 88]]\n",
    "lst[0][0:2]\n"
   ]
  },
  {
   "cell_type": "code",
   "execution_count": 9,
   "id": "37dadcd9",
   "metadata": {},
   "outputs": [
    {
     "name": "stdout",
     "output_type": "stream",
     "text": [
      "('Sukuna', 3.13)\n",
      "<class 'tuple'>\n"
     ]
    }
   ],
   "source": [
    "## Nested List with tuples\n",
    "\n",
    "lst = [[1,2,4], [\"Hello\", \"Gojo\"], (\"Sukuna\", 3.13, 88)]\n",
    "print(lst[2][0:2])\n",
    "print(type(lst[2][0:2]))\n"
   ]
  },
  {
   "cell_type": "code",
   "execution_count": 14,
   "id": "b1c4fff1",
   "metadata": {},
   "outputs": [
    {
     "name": "stdout",
     "output_type": "stream",
     "text": [
      "((1, 2, 3), ('Hello', 'Python'), (True, False))\n",
      "(1, 2, 3)\n",
      "Python\n"
     ]
    }
   ],
   "source": [
    "## Nested Tuple\n",
    "\n",
    "nested_tuple = ((1,2,3), (\"Hello\", \"Python\"), (True, False))\n",
    "print(nested_tuple)\n",
    "\n",
    "print(nested_tuple[0])\n",
    "print(nested_tuple[1][1])"
   ]
  },
  {
   "cell_type": "code",
   "execution_count": 15,
   "id": "db9d6b07",
   "metadata": {},
   "outputs": [
    {
     "name": "stdout",
     "output_type": "stream",
     "text": [
      "(1, 2, 3)\n",
      "('Hello', 'Python')\n",
      "(True, False)\n"
     ]
    }
   ],
   "source": [
    "## Iterating over the nested tuple\n",
    "\n",
    "nested_tuple = ((1,2,3), (\"Hello\", \"Python\"), (True, False))\n",
    "\n",
    "for sub_tuple in nested_tuple:\n",
    "    print(sub_tuple)\n",
    "    \n"
   ]
  },
  {
   "cell_type": "code",
   "execution_count": 22,
   "id": "f823fd14",
   "metadata": {},
   "outputs": [
    {
     "name": "stdout",
     "output_type": "stream",
     "text": [
      "Sub Tuple: (1, 2, 3)\n",
      "1\n",
      "2\n",
      "3\n",
      "Sub Tuple: ('Hello', 'Python')\n",
      "Hello\n",
      "Python\n",
      "Sub Tuple: (True, False)\n",
      "True\n",
      "False\n"
     ]
    }
   ],
   "source": [
    "## Iterating over the nested tuple\n",
    "\n",
    "nested_tuple = ((1,2,3), (\"Hello\", \"Python\"), (True, False))\n",
    "\n",
    "for sub_tuple in nested_tuple:\n",
    "    print(f\"Sub Tuple: {sub_tuple}\")\n",
    "    for inside_sub_tuple in sub_tuple:\n",
    "        print(inside_sub_tuple)\n",
    "    \n"
   ]
  },
  {
   "cell_type": "code",
   "execution_count": 23,
   "id": "850638e6",
   "metadata": {},
   "outputs": [
    {
     "name": "stdout",
     "output_type": "stream",
     "text": [
      "1 2 3 \n",
      "Hello Python \n",
      "True False \n"
     ]
    }
   ],
   "source": [
    "## Iterating over the nested tuple\n",
    "\n",
    "nested_tuple = ((1,2,3), (\"Hello\", \"Python\"), (True, False))\n",
    "\n",
    "for sub_tuple in nested_tuple:\n",
    "    for inside_sub_tuple in sub_tuple:\n",
    "        print(inside_sub_tuple, end=\" \")\n",
    "    print()\n",
    "    \n"
   ]
  }
 ],
 "metadata": {
  "kernelspec": {
   "display_name": ".venv",
   "language": "python",
   "name": "python3"
  },
  "language_info": {
   "codemirror_mode": {
    "name": "ipython",
    "version": 3
   },
   "file_extension": ".py",
   "mimetype": "text/x-python",
   "name": "python",
   "nbconvert_exporter": "python",
   "pygments_lexer": "ipython3",
   "version": "3.13.6"
  }
 },
 "nbformat": 4,
 "nbformat_minor": 5
}
