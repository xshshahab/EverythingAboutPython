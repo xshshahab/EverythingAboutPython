{
 "cells": [
  {
   "cell_type": "markdown",
   "id": "7e75161d",
   "metadata": {},
   "source": [
    "## Packing and Unpacking Tuples"
   ]
  },
  {
   "cell_type": "code",
   "execution_count": 4,
   "id": "1c5e284f",
   "metadata": {},
   "outputs": [
    {
     "name": "stdout",
     "output_type": "stream",
     "text": [
      "(1, 'Hello', 23.11)\n",
      "<class 'tuple'>\n"
     ]
    }
   ],
   "source": [
    "# Create a tuple with three different types of elements: an integer, a string, and a float\n",
    "packed_tuple = 1, \"Hello\", 23.11\n",
    "\n",
    "# Print the contents of the tuple to the console\n",
    "print(packed_tuple)\n",
    "\n",
    "# Print the type of the variable 'packed_tuple' to confirm it's a tuple\n",
    "print(type(packed_tuple))\n"
   ]
  },
  {
   "cell_type": "code",
   "execution_count": 5,
   "id": "161a5fef",
   "metadata": {},
   "outputs": [
    {
     "name": "stdout",
     "output_type": "stream",
     "text": [
      "1\n",
      "Hello\n",
      "23.11\n"
     ]
    }
   ],
   "source": [
    "# Unpacking Tuple\n",
    "\n",
    "# Create a tuple with multiple values\n",
    "packed_tuple = 1, \"Hello\", 23.11  # This is a tuple containing an integer, a string, and a float\n",
    "\n",
    "# Unpack the tuple into three variables: a, b, and c\n",
    "a, b, c = packed_tuple  # Each variable is assigned the corresponding value from the tuple\n",
    "\n",
    "# Print the values to verify the unpacking\n",
    "print(a)  # Output: 1 (the first element of the tuple)\n",
    "print(b)  # Output: \"Hello\" (the second element of the tuple)\n",
    "print(c)  # Output: 23.11 (the third element of the tuple)\n"
   ]
  },
  {
   "cell_type": "markdown",
   "id": "6f5e010c",
   "metadata": {},
   "source": [
    "Great — using `*` (called the **\"starred expression\"**) during unpacking allows you to collect multiple elements from a sequence into a list. This is useful when you don’t know or don’t need all the values individually, or when you're only interested in the first/last few values.\n",
    "\n",
    "Here's how it works, explained with code and comments:\n",
    "\n",
    "```python\n",
    "# Unpacking with *\n",
    "\n",
    "# A tuple with 5 elements\n",
    "packed_tuple = 1, 2, 3, 4, 5\n",
    "\n",
    "# Unpack the first element into 'a', the last into 'c', and all others into 'b'\n",
    "a, *b, c = packed_tuple\n",
    "\n",
    "# Print the results\n",
    "print(a)  # Output: 1 (the first element)\n",
    "print(b)  # Output: [2, 3, 4] (a list of the middle elements)\n",
    "print(c)  # Output: 5 (the last element)\n",
    "```\n",
    "\n",
    "### Explanation:\n",
    "\n",
    "* `a` gets the first value: `1`\n",
    "* `*b` collects the remaining values between the first and last into a list: `[2, 3, 4]`\n",
    "* `c` gets the last value: `5`\n",
    "\n",
    "### More Examples:\n",
    "\n",
    "```python\n",
    "# Example: capturing all except the first\n",
    "*a, b = 10, 20, 30, 40\n",
    "print(a)  # [10, 20, 30]\n",
    "print(b)  # 40\n",
    "\n",
    "# Example: capturing all except the last\n",
    "a, *b = 10, 20, 30, 40\n",
    "print(a)  # 10\n",
    "print(b)  # [20, 30, 40]\n",
    "```\n",
    "\n",
    "Let me know if you want a use case for this in a real program.\n"
   ]
  },
  {
   "cell_type": "code",
   "execution_count": 7,
   "id": "50308d47",
   "metadata": {},
   "outputs": [
    {
     "name": "stdout",
     "output_type": "stream",
     "text": [
      "1\n",
      "[2, 3, 4, 5]\n",
      "<class 'list'>\n",
      "6\n"
     ]
    }
   ],
   "source": [
    "## Unpacking with * \n",
    "\n",
    "numbers = (1, 2, 3, 4, 5, 6)\n",
    "\n",
    "first, *middle, last = numbers\n",
    "\n",
    "print(first)\n",
    "print(middle)\n",
    "print(type(middle))\n",
    "print(last)\n",
    "\n"
   ]
  }
 ],
 "metadata": {
  "kernelspec": {
   "display_name": ".venv",
   "language": "python",
   "name": "python3"
  },
  "language_info": {
   "codemirror_mode": {
    "name": "ipython",
    "version": 3
   },
   "file_extension": ".py",
   "mimetype": "text/x-python",
   "name": "python",
   "nbconvert_exporter": "python",
   "pygments_lexer": "ipython3",
   "version": "3.13.6"
  }
 },
 "nbformat": 4,
 "nbformat_minor": 5
}
