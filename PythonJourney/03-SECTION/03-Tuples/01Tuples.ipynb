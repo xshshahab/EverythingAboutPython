{
 "cells": [
  {
   "cell_type": "markdown",
   "id": "fa098126",
   "metadata": {},
   "source": [
    "# Introduction of Tuples\n",
    "\n",
    "Tupes are ordered collections of items that are immutable. They are similar to lists, but their immutability makes them different."
   ]
  },
  {
   "cell_type": "code",
   "execution_count": 1,
   "id": "0d81434b",
   "metadata": {},
   "outputs": [
    {
     "name": "stdout",
     "output_type": "stream",
     "text": [
      "()\n",
      "<class 'tuple'>\n"
     ]
    }
   ],
   "source": [
    "## Creating a typle\n",
    "empty_tuple = ()\n",
    "\n",
    "print(empty_tuple)\n",
    "print(type(empty_tuple))"
   ]
  },
  {
   "cell_type": "code",
   "execution_count": 2,
   "id": "66422b74",
   "metadata": {},
   "outputs": [
    {
     "name": "stdout",
     "output_type": "stream",
     "text": [
      "[]\n",
      "<class 'list'>\n",
      "()\n",
      "<class 'tuple'>\n"
     ]
    }
   ],
   "source": [
    "## Methods to create empty list and typle\n",
    "\n",
    "lst = list()\n",
    "print(lst)\n",
    "print(type(lst))\n",
    "\n",
    "tpl = tuple()\n",
    "print(tpl)\n",
    "print(type(tpl))"
   ]
  },
  {
   "cell_type": "code",
   "execution_count": 3,
   "id": "97080e55",
   "metadata": {},
   "outputs": [
    {
     "name": "stdout",
     "output_type": "stream",
     "text": [
      "(1, 2, 3, 4, 5)\n",
      "<class 'tuple'>\n",
      "[1, 2, 3, 4, 5]\n",
      "<class 'list'>\n"
     ]
    }
   ],
   "source": [
    "## Type conversion of list and tuple\n",
    "\n",
    "numbers = tuple([1, 2, 3, 4, 5]) # [] -> use for creating a list\n",
    "print(numbers)\n",
    "print(type(numbers))\n",
    "\n",
    "\n",
    "\n",
    "numbers2 = list((1, 2, 3, 4, 5)) # () -> use for creating a tuple\n",
    "print(numbers2)\n",
    "print(type(numbers2))"
   ]
  },
  {
   "cell_type": "code",
   "execution_count": 5,
   "id": "e4c4e05c",
   "metadata": {},
   "outputs": [
    {
     "name": "stdout",
     "output_type": "stream",
     "text": [
      "(1, 'Hello', 'Nandini', 43, True, 23.54)\n",
      "<class 'tuple'>\n"
     ]
    }
   ],
   "source": [
    "    # Mixed Tuple\n",
    "\n",
    "mixed_tuple = (1, \"Hello\", \"Nandini\", 43, True, 23.54)\n",
    "print(mixed_tuple)\n",
    "print(type(mixed_tuple))\n",
    "\n"
   ]
  },
  {
   "cell_type": "markdown",
   "id": "e42536f4",
   "metadata": {},
   "source": [
    "#### Accessing Tuple Elements"
   ]
  },
  {
   "cell_type": "code",
   "execution_count": 10,
   "id": "8f1708ca",
   "metadata": {},
   "outputs": [
    {
     "name": "stdout",
     "output_type": "stream",
     "text": [
      "(1, 2, 3, 4, 5)\n",
      "<class 'tuple'>\n",
      "2\n",
      "4\n",
      "5\n"
     ]
    }
   ],
   "source": [
    "numbers = (1, 2, 3, 4, 5)\n",
    "print(numbers)\n",
    "print(type(numbers))\n",
    "\n",
    "\n",
    "print(numbers[1])\n",
    "print(numbers[3])\n",
    "print(numbers[-1])\n"
   ]
  },
  {
   "cell_type": "code",
   "execution_count": 11,
   "id": "c1566483",
   "metadata": {},
   "outputs": [
    {
     "name": "stdout",
     "output_type": "stream",
     "text": [
      "(1, 2, 3)\n"
     ]
    }
   ],
   "source": [
    "### slicing\n",
    "\n",
    "print(numbers[0:3])"
   ]
  }
 ],
 "metadata": {
  "kernelspec": {
   "display_name": ".venv",
   "language": "python",
   "name": "python3"
  },
  "language_info": {
   "codemirror_mode": {
    "name": "ipython",
    "version": 3
   },
   "file_extension": ".py",
   "mimetype": "text/x-python",
   "name": "python",
   "nbconvert_exporter": "python",
   "pygments_lexer": "ipython3",
   "version": "3.13.5"
  }
 },
 "nbformat": 4,
 "nbformat_minor": 5
}
