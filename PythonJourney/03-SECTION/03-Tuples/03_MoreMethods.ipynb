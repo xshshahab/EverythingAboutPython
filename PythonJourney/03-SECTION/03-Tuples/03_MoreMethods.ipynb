{
 "cells": [
  {
   "cell_type": "markdown",
   "id": "b051cf61",
   "metadata": {},
   "source": [
    "## Tuples More Methods "
   ]
  },
  {
   "cell_type": "markdown",
   "id": "172e47bb",
   "metadata": {},
   "source": [
    "Sure! Let's break it down step by step:\n",
    "\n",
    "```python\n",
    "numbers = (1, 2, 3, 4, 5)  # A tuple is defined\n",
    "print(numbers.count(1))    # Using the count() method\n",
    "```\n",
    "\n",
    "### Explanation:\n",
    "\n",
    "#### 1. `numbers = (1, 2, 3, 4, 5)`\n",
    "\n",
    "* This line creates a **tuple** called `numbers` with 5 elements: `1`, `2`, `3`, `4`, and `5`.\n",
    "* A **tuple** is similar to a list in Python, but it is **immutable**, meaning its values cannot be changed once defined.\n",
    "\n",
    "#### 2. `numbers.count(1)`\n",
    "\n",
    "* The `count()` method is used to **count how many times a specific value appears** in a tuple (or list).\n",
    "* Here, we are asking: **\"How many times does the number `1` appear in the `numbers` tuple?\"**\n",
    "\n",
    "#### 3. `print(numbers.count(1))`\n",
    "\n",
    "* This line prints the result of the `count()` method.\n",
    "* In this case, since `1` appears **once** in the tuple, the output will be:\n",
    "\n",
    "```\n",
    "1\n",
    "```\n",
    "\n",
    "### Output:\n",
    "\n",
    "```\n",
    "1\n",
    "```\n",
    "\n",
    "Let me know if you’d like to try other examples using `.count()` or tuples!\n"
   ]
  },
  {
   "cell_type": "code",
   "execution_count": 3,
   "id": "7358d968",
   "metadata": {},
   "outputs": [
    {
     "name": "stdout",
     "output_type": "stream",
     "text": [
      "1\n"
     ]
    }
   ],
   "source": [
    "numbers = (1, 2, 3, 4, 5) \n",
    "print(numbers.count(1))"
   ]
  },
  {
   "cell_type": "markdown",
   "id": "6d1f2aed",
   "metadata": {},
   "source": [
    "Great! You're now using the `.index()` method. Here's what this line does:\n",
    "\n",
    "```python\n",
    "numbers.index(3)\n",
    "```\n",
    "\n",
    "### Let's break it down:\n",
    "\n",
    "Assume the same tuple as before:\n",
    "\n",
    "```python\n",
    "numbers = (1, 2, 3, 4, 5)\n",
    "```\n",
    "\n",
    "### `.index(value)`\n",
    "\n",
    "* The `.index()` method returns the **position (index)** of the **first occurrence** of the specified value in the tuple.\n",
    "* Python uses **zero-based indexing**, which means the first element is at index `0`.\n",
    "\n",
    "### So:\n",
    "\n",
    "```python\n",
    "numbers.index(3)\n",
    "```\n",
    "\n",
    "* This searches for the value `3` in the tuple `(1, 2, 3, 4, 5)`.\n",
    "* `3` is found at index `2` (since the positions are: 0 → 1, 1 → 2, 2 → 3...).\n",
    "\n",
    "### Output:\n",
    "\n",
    "```python\n",
    "2\n",
    "```\n",
    "\n",
    "#### Note:\n",
    "\n",
    "* If the value is **not found**, Python will raise a `ValueError`.\n",
    "\n",
    "Example:\n",
    "\n",
    "```python\n",
    "numbers.index(10)  # This will raise an error because 10 is not in the tuple\n",
    "```\n",
    "\n",
    "Would you like a quick visual of tuple indexing or to see how `.index()` behaves with duplicates?\n"
   ]
  },
  {
   "cell_type": "code",
   "execution_count": 4,
   "id": "8907d2cf",
   "metadata": {},
   "outputs": [
    {
     "data": {
      "text/plain": [
       "2"
      ]
     },
     "execution_count": 4,
     "metadata": {},
     "output_type": "execute_result"
    }
   ],
   "source": [
    "numbers.index(3)"
   ]
  }
 ],
 "metadata": {
  "kernelspec": {
   "display_name": ".venv",
   "language": "python",
   "name": "python3"
  },
  "language_info": {
   "codemirror_mode": {
    "name": "ipython",
    "version": 3
   },
   "file_extension": ".py",
   "mimetype": "text/x-python",
   "name": "python",
   "nbconvert_exporter": "python",
   "pygments_lexer": "ipython3",
   "version": "3.13.6"
  }
 },
 "nbformat": 4,
 "nbformat_minor": 5
}
