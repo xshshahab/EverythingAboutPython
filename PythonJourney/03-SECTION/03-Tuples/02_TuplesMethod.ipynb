{
 "cells": [
  {
   "cell_type": "markdown",
   "id": "c1a292b6",
   "metadata": {},
   "source": [
    "### Tuples Methods\n"
   ]
  },
  {
   "cell_type": "code",
   "execution_count": 2,
   "id": "e0e8450a",
   "metadata": {},
   "outputs": [
    {
     "name": "stdout",
     "output_type": "stream",
     "text": [
      "(1, 2, 3, 4, 5, 'Hello', 43.21, 'Python', True, 1, False)\n"
     ]
    }
   ],
   "source": [
    "number = (1, 2, 3, 4, 5)\n",
    "mixed_tuple = (\"Hello\", 43.21, \"Python\", True, 1, False)\n",
    "\n",
    "#01 Tuple Concatenation \n",
    "\n",
    "concat = number + mixed_tuple\n",
    "print(concat)"
   ]
  },
  {
   "cell_type": "code",
   "execution_count": 3,
   "id": "8e3414fc",
   "metadata": {},
   "outputs": [
    {
     "data": {
      "text/plain": [
       "(1, 2, 3, 4, 5, 1, 2, 3, 4, 5, 1, 2, 3, 4, 5)"
      ]
     },
     "execution_count": 3,
     "metadata": {},
     "output_type": "execute_result"
    }
   ],
   "source": [
    "number * 3\n"
   ]
  },
  {
   "cell_type": "code",
   "execution_count": 4,
   "id": "d9f5eb39",
   "metadata": {},
   "outputs": [
    {
     "data": {
      "text/plain": [
       "('Hello',\n",
       " 43.21,\n",
       " 'Python',\n",
       " True,\n",
       " 1,\n",
       " False,\n",
       " 'Hello',\n",
       " 43.21,\n",
       " 'Python',\n",
       " True,\n",
       " 1,\n",
       " False,\n",
       " 'Hello',\n",
       " 43.21,\n",
       " 'Python',\n",
       " True,\n",
       " 1,\n",
       " False)"
      ]
     },
     "execution_count": 4,
     "metadata": {},
     "output_type": "execute_result"
    }
   ],
   "source": [
    "mixed_tuple * 3"
   ]
  },
  {
   "cell_type": "markdown",
   "id": "544302a7",
   "metadata": {},
   "source": [
    "###  Code Explanation:\n",
    "\n",
    "#### **1. Tuple Concatenation**\n",
    "\n",
    "```python\n",
    "number = (1, 2, 3, 4, 5)\n",
    "mixed_tuple = (\"Hello\", 43.21, \"Python\", True, 1, False)\n",
    "\n",
    "concat = number + mixed_tuple\n",
    "print(concat)\n",
    "```\n",
    "\n",
    "**What it does:**\n",
    "\n",
    "* `number` is a tuple with integers.\n",
    "* `mixed_tuple` is a tuple with mixed data types: a string, float, string, boolean, integer, and another boolean.\n",
    "* `number + mixed_tuple` **concatenates** the two tuples. This means the elements of `mixed_tuple` are added to the end of `number`.\n",
    "\n",
    "**Output:**\n",
    "\n",
    "```python\n",
    "(1, 2, 3, 4, 5, 'Hello', 43.21, 'Python', True, 1, False)\n",
    "```\n",
    "\n",
    "---\n",
    "\n",
    "### ❓ What does `number * 3` do?\n",
    "\n",
    "```python\n",
    "number * 3\n",
    "```\n",
    "\n",
    "This **repeats the tuple `number` three times**.\n",
    "\n",
    "* `number = (1, 2, 3, 4, 5)`\n",
    "* `number * 3` → (1, 2, 3, 4, 5, 1, 2, 3, 4, 5, 1, 2, 3, 4, 5)\n",
    "\n",
    "**Explanation:**\n",
    "\n",
    "* The `*` operator, when used with a tuple and an integer, repeats the tuple that many times.\n",
    "* It does **not multiply each element**, just repeats the entire tuple.\n",
    "\n",
    "---\n",
    "\n",
    "### ❓ What does `mixed_tuple * 3` do?\n",
    "\n",
    "```python\n",
    "mixed_tuple * 3\n",
    "```\n",
    "\n",
    "* `mixed_tuple = (\"Hello\", 43.21, \"Python\", True, 1, False)`\n",
    "* `mixed_tuple * 3` → repeats the entire tuple **three times**:\n",
    "\n",
    "```python\n",
    "('Hello', 43.21, 'Python', True, 1, False, \n",
    " 'Hello', 43.21, 'Python', True, 1, False, \n",
    " 'Hello', 43.21, 'Python', True, 1, False)\n",
    "```\n",
    "\n",
    "---\n",
    "\n",
    "###  Summary:\n",
    "\n",
    "| Expression             | Meaning                         | Output Sample                                   |\n",
    "| ---------------------- | ------------------------------- | ----------------------------------------------- |\n",
    "| `number + mixed_tuple` | Concatenates the tuples         | `(1, 2, ..., False)`                            |\n",
    "| `number * 3`           | Repeats the tuple 3 times       | `(1, 2, 3, 4, 5, 1, 2, 3, 4, 5, 1, 2, 3, 4, 5)` |\n",
    "| `mixed_tuple * 3`      | Repeats the mixed tuple 3 times | `('Hello', 43.21, ..., False, ..., False)`      |\n"
   ]
  },
  {
   "cell_type": "markdown",
   "id": "72e75bbd",
   "metadata": {},
   "source": [
    "## Immutable Nature of Tuple\n",
    "### Tuples are immutable, meaning their elements cannot be changed once assigned.\n"
   ]
  },
  {
   "cell_type": "code",
   "execution_count": 9,
   "id": "00e87637",
   "metadata": {},
   "outputs": [
    {
     "name": "stdout",
     "output_type": "stream",
     "text": [
      "[1, 2, 3, 4, 5]\n",
      "[1, 2, ('Shahab',), 4, 5]\n",
      "----------------------------------------\n",
      "(1, 2, 3, 4, 5)\n"
     ]
    },
    {
     "ename": "TypeError",
     "evalue": "'tuple' object does not support item assignment",
     "output_type": "error",
     "traceback": [
      "\u001b[31m---------------------------------------------------------------------------\u001b[39m",
      "\u001b[31mTypeError\u001b[39m                                 Traceback (most recent call last)",
      "\u001b[36mCell\u001b[39m\u001b[36m \u001b[39m\u001b[32mIn[9]\u001b[39m\u001b[32m, line 13\u001b[39m\n\u001b[32m      9\u001b[39m numbers = (\u001b[32m1\u001b[39m, \u001b[32m2\u001b[39m, \u001b[32m3\u001b[39m, \u001b[32m4\u001b[39m, \u001b[32m5\u001b[39m)\n\u001b[32m     10\u001b[39m \u001b[38;5;28mprint\u001b[39m(numbers)\n\u001b[32m---> \u001b[39m\u001b[32m13\u001b[39m \u001b[43mnumbers\u001b[49m\u001b[43m[\u001b[49m\u001b[32;43m1\u001b[39;49m\u001b[43m]\u001b[49m = \u001b[33m\"\u001b[39m\u001b[33mXshShahab\u001b[39m\u001b[33m\"\u001b[39m\n",
      "\u001b[31mTypeError\u001b[39m: 'tuple' object does not support item assignment"
     ]
    }
   ],
   "source": [
    "lst = [1, 2, 3, 4, 5]\n",
    "print(lst)\n",
    "\n",
    "lst[2] = \"Shahab\",\n",
    "print(lst)\n",
    "\n",
    "print(\"----------------------------------------\")\n",
    "\n",
    "numbers = (1, 2, 3, 4, 5)\n",
    "print(numbers)\n",
    "\n",
    "\n",
    "numbers[1] = \"XshShahab\""
   ]
  }
 ],
 "metadata": {
  "kernelspec": {
   "display_name": ".venv",
   "language": "python",
   "name": "python3"
  },
  "language_info": {
   "codemirror_mode": {
    "name": "ipython",
    "version": 3
   },
   "file_extension": ".py",
   "mimetype": "text/x-python",
   "name": "python",
   "nbconvert_exporter": "python",
   "pygments_lexer": "ipython3",
   "version": "3.13.6"
  }
 },
 "nbformat": 4,
 "nbformat_minor": 5
}
