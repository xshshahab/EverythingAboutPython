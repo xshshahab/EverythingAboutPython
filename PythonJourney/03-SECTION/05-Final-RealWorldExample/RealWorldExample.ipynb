{
 "cells": [
  {
   "cell_type": "markdown",
   "id": "0b59346b",
   "metadata": {},
   "source": [
    "# REAL WORLD EXAMPLES USING LIST IN PYTHON\n",
    "\n",
    "Lists are one of the most commonly used data structures in python, thanks to their versatility are ease of use.\n",
    "Here are several practical examples that illustrate their use in real-world scenarios."
   ]
  },
  {
   "cell_type": "code",
   "execution_count": 4,
   "id": "6c3a3891",
   "metadata": {},
   "outputs": [
    {
     "name": "stdout",
     "output_type": "stream",
     "text": [
      "Don't Forgot to pay the bills\n",
      "To Do List Remaning\n",
      "Pending : Pay ganesh bills\n",
      "Pending : Buy Pendrive\n",
      "Pending : Schedule a meeting\n",
      "Pending : Go for a gym\n"
     ]
    }
   ],
   "source": [
    "## Example 01 : Manage a TO DO List\n",
    "### Create a ToDo List Keep Track Of Tasks.\n",
    "\n",
    "todo_list = [\"Clean the room\", \"Pay ganesh bills\", \"Buy Pendrive\"]\n",
    "\n",
    "## Adding to task\n",
    "todo_list.append(\"Schedule a meeting\")\n",
    "todo_list.append(\"Go for a gym\")\n",
    "\n",
    "## Removed completed task\n",
    "todo_list.remove(\"Clean the room\")\n",
    "\n",
    "## checking if the task is in the list\n",
    "if \"Pay ganesh bills\" in todo_list:\n",
    "    print(\"Don't Forgot to pay the bills\")\n",
    "\n",
    "print(\"To Do List Remaning\")\n",
    "for task in todo_list:\n",
    "    print(f\"Pending : {task}\")"
   ]
  },
  {
   "cell_type": "code",
   "execution_count": 6,
   "id": "43c4d880",
   "metadata": {},
   "outputs": [
    {
     "name": "stdout",
     "output_type": "stream",
     "text": [
      "Average grade : 87.50\n",
      "Highest grade : 97\n",
      "Lowest grade : 78\n"
     ]
    }
   ],
   "source": [
    "## Example - 02 Organizing Students Grades\n",
    "### Create a list to store and calculate average grade for students.\n",
    "\n",
    "\n",
    "grades = [97, 78, 86, 92, 83]\n",
    "\n",
    "# Adding a new garde\n",
    "grades.append(89)\n",
    "\n",
    "# calculate the average grade\n",
    "average_grade = sum(grades) / len(grades)\n",
    "print(f\"Average grade : {average_grade:.2f}\")\n",
    "\n",
    "highest_grade = max(grades)\n",
    "lowest_grade = min(grades)\n",
    "\n",
    "print(f\"Highest grade : {highest_grade}\")\n",
    "print(f\"Lowest grade : {lowest_grade}\")\n",
    "\n"
   ]
  },
  {
   "cell_type": "code",
   "execution_count": 13,
   "id": "05b95320",
   "metadata": {},
   "outputs": [
    {
     "name": "stdout",
     "output_type": "stream",
     "text": [
      "oranges are in stock.\n",
      "Inventory List\n",
      "- apples\n",
      "- guavas\n",
      "- kiwis\n",
      "- grapes\n",
      "- oranges\n"
     ]
    }
   ],
   "source": [
    "## Example - 03 : Managing an Inventory\n",
    "### Use a list to manage inventory items in a store\n",
    "\n",
    "inventory = [\"apples\", \"guavas\", \"bananas\", \"kiwis\", \"grapes\"]\n",
    "\n",
    "## Adding a new item\n",
    "inventory.append(\"oranges\")\n",
    "\n",
    "# Remove an item that is out of stock\n",
    "inventory.remove(\"bananas\")\n",
    "\n",
    "\n",
    "## checking if an items is in stock\n",
    "item = \"oranges\"\n",
    "if item in inventory:\n",
    "    print(f\"{item} are in stock.\")\n",
    "else:\n",
    "    print(f\"{item} are not in stock\")\n",
    "\n",
    "\n",
    "# Printing the inventory\n",
    "print(\"Inventory List\")\n",
    "for items in inventory:\n",
    "    print(f\"- {items}\")\n"
   ]
  }
 ],
 "metadata": {
  "kernelspec": {
   "display_name": ".venv",
   "language": "python",
   "name": "python3"
  },
  "language_info": {
   "codemirror_mode": {
    "name": "ipython",
    "version": 3
   },
   "file_extension": ".py",
   "mimetype": "text/x-python",
   "name": "python",
   "nbconvert_exporter": "python",
   "pygments_lexer": "ipython3",
   "version": "3.13.6"
  }
 },
 "nbformat": 4,
 "nbformat_minor": 5
}
