{
 "cells": [
  {
   "cell_type": "markdown",
   "id": "3c30f1b4",
   "metadata": {},
   "source": [
    "# 📄 Slicing List in Python\n",
    "\n",
    "```python\n",
    "numbers = [1, 2, 3, 4, 5, 6, 7, 8, 9, 10]\n",
    "```\n",
    "\n",
    "This creates a list named `numbers` with integers from 1 to 10.\n",
    "\n",
    "## 🔍 List Slicing Examples\n",
    "\n",
    "### 1. `print(numbers[2:5])`\n",
    "\n",
    "```python\n",
    "# Output: [3, 4, 5]\n",
    "```\n",
    "\n",
    "* Starts at index **2** (which is `3`)\n",
    "* Ends **before** index **5** (which is `6`)\n",
    "* So it includes elements at indices 2, 3, and 4.\n",
    "\n",
    "---\n",
    "\n",
    "### 2. `print(numbers[:5])`\n",
    "\n",
    "```python\n",
    "# Output: [1, 2, 3, 4, 5]\n",
    "```\n",
    "\n",
    "* Omitting the start index defaults it to **0**\n",
    "* Ends before index **5**\n",
    "* So it includes elements from index 0 to 4.\n",
    "\n",
    "---\n",
    "\n",
    "### 3. `print(numbers[5:])`\n",
    "\n",
    "```python\n",
    "# Output: [6, 7, 8, 9, 10]\n",
    "```\n",
    "\n",
    "* Starts at index **5** (which is `6`)\n",
    "* Omitting the end index means it goes **to the end of the list**\n",
    "\n",
    "---\n",
    "\n",
    "### 4. `print(numbers[::2])`\n",
    "\n",
    "```python\n",
    "# Output: [1, 3, 5, 7, 9]\n",
    "```\n",
    "\n",
    "* This uses **step** slicing: `[start:stop:step]`\n",
    "* `start` and `stop` are omitted → full list\n",
    "* `step` = 2 → includes every **second** element starting from index 0\n",
    "\n",
    "---\n",
    "\n",
    "### 5. `print(numbers[::-1])`\n",
    "\n",
    "```python\n",
    "# Output: [10, 9, 8, 7, 6, 5, 4, 3, 2, 1]\n",
    "```\n",
    "\n",
    "* Step is `-1` → list is **reversed**\n",
    "* This is a common trick to reverse a list using slicing\n",
    "\n",
    "---\n",
    "\n",
    "## ✅ Summary Table\n",
    "\n",
    "| Syntax          | Description                  | Output               |\n",
    "| --------------- | ---------------------------- | -------------------- |\n",
    "| `numbers[2:5]`  | Elements from index 2 to 4   | `[3, 4, 5]`          |\n",
    "| `numbers[:5]`   | First 5 elements             | `[1, 2, 3, 4, 5]`    |\n",
    "| `numbers[5:]`   | Elements from index 5 onward | `[6, 7, 8, 9, 10]`   |\n",
    "| `numbers[::2]`  | Every second element         | `[1, 3, 5, 7, 9]`    |\n",
    "| `numbers[::-1]` | Reversed list                | `[10, 9, 8, ..., 1]` |\n"
   ]
  },
  {
   "cell_type": "code",
   "execution_count": 3,
   "id": "80952cc6",
   "metadata": {},
   "outputs": [
    {
     "name": "stdout",
     "output_type": "stream",
     "text": [
      "[3, 4, 5]\n",
      "[1, 2, 3, 4, 5]\n",
      "[6, 7, 8, 9, 10]\n",
      "[1, 3, 5, 7, 9]\n",
      "[10, 9, 8, 7, 6, 5, 4, 3, 2, 1]\n"
     ]
    }
   ],
   "source": [
    "# Slicing List\n",
    "\n",
    "numbers=[1,2,3,4,5,6,7,8,9,10]\n",
    "\n",
    "print(numbers[2:5]) # [3,4,5]\n",
    "print(numbers[:5]) # [1, 2, 3, 4, 5]\n",
    "print(numbers[5:]) # [6, 7, 8, 9, 10]\n",
    "print(numbers[::2]) \n",
    "print(numbers[::-1])"
   ]
  }
 ],
 "metadata": {
  "kernelspec": {
   "display_name": ".venv",
   "language": "python",
   "name": "python3"
  },
  "language_info": {
   "codemirror_mode": {
    "name": "ipython",
    "version": 3
   },
   "file_extension": ".py",
   "mimetype": "text/x-python",
   "name": "python",
   "nbconvert_exporter": "python",
   "pygments_lexer": "ipython3",
   "version": "3.13.5"
  }
 },
 "nbformat": 4,
 "nbformat_minor": 5
}
