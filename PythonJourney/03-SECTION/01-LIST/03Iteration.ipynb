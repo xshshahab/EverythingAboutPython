{
 "cells": [
  {
   "cell_type": "code",
   "execution_count": 1,
   "id": "91b55e90",
   "metadata": {},
   "outputs": [
    {
     "name": "stdout",
     "output_type": "stream",
     "text": [
      "apple\n",
      "banana\n",
      "coconut\n",
      "guava\n",
      "cherry\n",
      "mango\n"
     ]
    }
   ],
   "source": [
    "# Iterating the list\n",
    "\n",
    "fruits = [\"apple\", \"banana\", \"coconut\", \"guava\", \"cherry\", \"mango\"]\n",
    "\n",
    "for fruit in fruits:\n",
    "    print(fruit)"
   ]
  },
  {
   "cell_type": "code",
   "execution_count": 4,
   "id": "e63b53e1",
   "metadata": {},
   "outputs": [
    {
     "name": "stdout",
     "output_type": "stream",
     "text": [
      "Odd Number :  1\n",
      "Even Number :  2\n",
      "Odd Number :  3\n",
      "Even Number :  4\n",
      "Odd Number :  5\n",
      "Even Number :  6\n",
      "Odd Number :  7\n",
      "Even Number :  8\n",
      "Odd Number :  9\n",
      "Even Number :  10\n"
     ]
    }
   ],
   "source": [
    "numbers = [1,2,3,4,5,6,7,8,9,10]\n",
    "\n",
    "for number in numbers:\n",
    "    if number % 2 == 0 :\n",
    "        print(\"Even Number : \", number)\n",
    "    else: \n",
    "        print(\"Odd Number : \", number)"
   ]
  },
  {
   "cell_type": "code",
   "execution_count": 7,
   "id": "61919016",
   "metadata": {},
   "outputs": [
    {
     "name": "stdout",
     "output_type": "stream",
     "text": [
      "Index : 0 and number : 1\n",
      "Index : 1 and number : 2\n",
      "Index : 2 and number : 3\n",
      "Index : 3 and number : 4\n",
      "Index : 4 and number : 5\n"
     ]
    }
   ],
   "source": [
    "# Iterating with index.\n",
    "\n",
    "numbers = [1,2,3,4,5]\n",
    "\n",
    "for i,number in enumerate(numbers):\n",
    "    print(f\"Index : {i} and number : {number}\")"
   ]
  },
  {
   "cell_type": "code",
   "execution_count": null,
   "id": "ff7b59bd",
   "metadata": {},
   "outputs": [],
   "source": []
  },
  {
   "cell_type": "code",
   "execution_count": null,
   "id": "7120ed3f",
   "metadata": {},
   "outputs": [],
   "source": []
  }
 ],
 "metadata": {
  "kernelspec": {
   "display_name": ".venv",
   "language": "python",
   "name": "python3"
  },
  "language_info": {
   "codemirror_mode": {
    "name": "ipython",
    "version": 3
   },
   "file_extension": ".py",
   "mimetype": "text/x-python",
   "name": "python",
   "nbconvert_exporter": "python",
   "pygments_lexer": "ipython3",
   "version": "3.13.5"
  }
 },
 "nbformat": 4,
 "nbformat_minor": 5
}
