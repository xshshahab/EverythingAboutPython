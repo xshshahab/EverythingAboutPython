{
 "cells": [
  {
   "cell_type": "code",
   "execution_count": null,
   "id": "71460b0b",
   "metadata": {},
   "outputs": [
    {
     "name": "stdout",
     "output_type": "stream",
     "text": [
      "<class 'list'>\n"
     ]
    }
   ],
   "source": [
    "# Creating an empty list\n",
    "lst = []\n",
    "print(type(lst))"
   ]
  },
  {
   "cell_type": "code",
   "execution_count": 4,
   "id": "bf29d43f",
   "metadata": {},
   "outputs": [
    {
     "name": "stdout",
     "output_type": "stream",
     "text": [
      "['Naman', 'Sudhir', 'Diksha', 'Paro']\n"
     ]
    }
   ],
   "source": [
    "# String list \n",
    "\n",
    "names=[\"Naman\", \"Sudhir\", \"Diksha\", \"Paro\"]\n",
    "print(names)"
   ]
  },
  {
   "cell_type": "code",
   "execution_count": 5,
   "id": "b1103d3c",
   "metadata": {},
   "outputs": [
    {
     "name": "stdout",
     "output_type": "stream",
     "text": [
      "[1, 2, 3, 4, 5]\n"
     ]
    }
   ],
   "source": [
    "# Number list\n",
    "numbers=[1,2,3,4,5]\n",
    "print(numbers)"
   ]
  },
  {
   "cell_type": "code",
   "execution_count": 7,
   "id": "bf3e5b7c",
   "metadata": {},
   "outputs": [
    {
     "name": "stdout",
     "output_type": "stream",
     "text": [
      "[1, 2, 3, 4, 5, 'Sohan', 'Sudhir', 'Ranjan', True]\n"
     ]
    }
   ],
   "source": [
    "# Mixed List\n",
    "\n",
    "mixed_list = [1,2,3,4,5, \"Sohan\", \"Sudhir\", \"Ranjan\", True]\n",
    "print(mixed_list)"
   ]
  },
  {
   "cell_type": "code",
   "execution_count": 11,
   "id": "7740434e",
   "metadata": {},
   "outputs": [
    {
     "name": "stdout",
     "output_type": "stream",
     "text": [
      "apple\n",
      "banana\n",
      "mango\n"
     ]
    }
   ],
   "source": [
    "# Accessing the value of a list\n",
    "fruits=[\"apple\",\"banana\",\"cherry\",\"mango\"]\n",
    "\n",
    "print(fruits[0])\n",
    "print(fruits[1])\n",
    "\n",
    "# It's gives the last value\n",
    "print(fruits[-1])\n",
    "\n",
    "\n",
    "\n"
   ]
  },
  {
   "cell_type": "code",
   "execution_count": null,
   "id": "cf5b6c4e",
   "metadata": {},
   "outputs": [
    {
     "name": "stdout",
     "output_type": "stream",
     "text": [
      "['banana', 'cherry', 'mango']\n"
     ]
    }
   ],
   "source": [
    "# Accessing the values from 1 index to till end.\n",
    "fruits=[\"apple\",\"banana\",\"cherry\",\"mango\"]\n",
    "\n",
    "# In this code, fruits[1:] uses list slicing to access elements from index 1 to the end of the list. Since no second index is given after the colon, Python automatically slices until the end. So the output is ['banana', 'cherry', 'mango'].\n",
    "\n",
    "\n",
    "    # print(listName[firstIndex: endIndex])\n",
    "    # endIndex : end is the index where the slice ends (exclusive).\n",
    "    # If you omit end, it slices to the end of the list.\n",
    "\n",
    "print(fruits[1:]) # Output:  ['banana', 'cherry', 'mango']\n",
    "\n"
   ]
  },
  {
   "cell_type": "code",
   "execution_count": null,
   "id": "898d8e44",
   "metadata": {},
   "outputs": [
    {
     "name": "stdout",
     "output_type": "stream",
     "text": [
      "['banana', 'cherry']\n",
      "['mango']\n"
     ]
    }
   ],
   "source": [
    "fruits=[\"apple\",\"banana\",\"cherry\",\"mango\"]\n",
    "\n",
    "print(fruits[1:3]) # ['banana', 'cherry']\n",
    "print(fruits[-1:]) # ['mango']"
   ]
  },
  {
   "cell_type": "code",
   "execution_count": 16,
   "id": "8f401e65",
   "metadata": {},
   "outputs": [
    {
     "name": "stdout",
     "output_type": "stream",
     "text": [
      "['maruti', 'bmw', 'toyota']\n",
      "['maruti', 'bmw', 'mg hector']\n"
     ]
    }
   ],
   "source": [
    "# Modifying the list elements\n",
    "\n",
    "cars=[\"maruti\", \"bmw\",\"toyota\"]\n",
    "\n",
    "print(cars)\n",
    "cars[2] = \"mg hector\"\n",
    "print(cars)"
   ]
  },
  {
   "cell_type": "code",
   "execution_count": 18,
   "id": "eb407b2c",
   "metadata": {},
   "outputs": [
    {
     "name": "stdout",
     "output_type": "stream",
     "text": [
      "['maruti', 'bmw', 'toyota', 'audi']\n"
     ]
    }
   ],
   "source": [
    "# Append the item to the end \n",
    "cars=[\"maruti\", \"bmw\",\"toyota\"]\n",
    "\n",
    "cars.append(\"audi\")\n",
    "\n",
    "print(cars)"
   ]
  },
  {
   "cell_type": "code",
   "execution_count": 22,
   "id": "2a977c45",
   "metadata": {},
   "outputs": [
    {
     "name": "stdout",
     "output_type": "stream",
     "text": [
      "['maruti', 'carswala', 'bmw', 'bmw', 'toyota']\n"
     ]
    }
   ],
   "source": [
    "# Add the item at the specific index \n",
    "cars=[\"maruti\",\"bmw\", \"bmw\",\"toyota\"]\n",
    "\n",
    "# it ask the first index and second parameter is value  \n",
    "cars.insert(1, \"carswala\")\n",
    "\n",
    "print(cars)"
   ]
  },
  {
   "cell_type": "code",
   "execution_count": 23,
   "id": "30b29d11",
   "metadata": {},
   "outputs": [
    {
     "name": "stdout",
     "output_type": "stream",
     "text": [
      "['maruti', 'bmw', 'toyota']\n"
     ]
    }
   ],
   "source": [
    "# Remove\n",
    "# The remove method remove the first occurance of an item\n",
    "cars=[\"maruti\",\"bmw\", \"bmw\",\"toyota\"]\n",
    "cars.remove(\"bmw\")\n",
    "print(cars)"
   ]
  },
  {
   "cell_type": "code",
   "execution_count": 24,
   "id": "bccabae8",
   "metadata": {},
   "outputs": [
    {
     "name": "stdout",
     "output_type": "stream",
     "text": [
      "['maruti', 'bmw', 'toyota']\n",
      "toyota\n",
      "['maruti', 'bmw']\n"
     ]
    }
   ],
   "source": [
    "# Removing and return the last \n",
    "\n",
    "cars=[\"maruti\",\"bmw\",\"toyota\"]\n",
    "print(cars)\n",
    "\n",
    "popped_cars = cars.pop()\n",
    "print(popped_cars)\n",
    "print(cars)"
   ]
  },
  {
   "cell_type": "code",
   "execution_count": 25,
   "id": "941ec335",
   "metadata": {},
   "outputs": [
    {
     "name": "stdout",
     "output_type": "stream",
     "text": [
      "['bmw', 'maruti']\n",
      "['maruti', 'bmw']\n"
     ]
    }
   ],
   "source": [
    "cars.sort()\n",
    "\n",
    "print(cars)\n",
    "\n",
    "cars.reverse()\n",
    "\n",
    "print(cars)"
   ]
  },
  {
   "cell_type": "code",
   "execution_count": 26,
   "id": "0497ba7d",
   "metadata": {},
   "outputs": [
    {
     "name": "stdout",
     "output_type": "stream",
     "text": [
      "[]\n"
     ]
    }
   ],
   "source": [
    "cars.clear()\n",
    "\n",
    "print(cars)"
   ]
  }
 ],
 "metadata": {
  "kernelspec": {
   "display_name": ".venv",
   "language": "python",
   "name": "python3"
  },
  "language_info": {
   "codemirror_mode": {
    "name": "ipython",
    "version": 3
   },
   "file_extension": ".py",
   "mimetype": "text/x-python",
   "name": "python",
   "nbconvert_exporter": "python",
   "pygments_lexer": "ipython3",
   "version": "3.13.5"
  }
 },
 "nbformat": 4,
 "nbformat_minor": 5
}
