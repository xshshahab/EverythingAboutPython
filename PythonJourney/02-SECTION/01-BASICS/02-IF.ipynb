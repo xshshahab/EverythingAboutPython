{
 "cells": [
  {
   "cell_type": "code",
   "execution_count": 1,
   "id": "8f64abb7",
   "metadata": {},
   "outputs": [
    {
     "name": "stdout",
     "output_type": "stream",
     "text": [
      "You're eligible for vote in this election\n"
     ]
    }
   ],
   "source": [
    "## if statement\n",
    "\n",
    "age=20\n",
    "\n",
    "if (age >= 18):\n",
    "    print(\"You're eligible for vote in this election\")"
   ]
  },
  {
   "cell_type": "markdown",
   "id": "d27d88dc",
   "metadata": {},
   "source": [
    "### Explanation:\n",
    "\n",
    "```python\n",
    "if True:\n",
    "    print(\"If condition is true, then it's code running\")\n",
    "```\n",
    "- `if True:`\n",
    "    This is a conditional statement in Python.\n",
    "    The keyword if checks whether the condition that follows it is true.\n",
    "    In this case, the condition is the literal value True, which is always true.\n",
    "    So, the code block under the if statement will always execute.\n",
    "\n",
    "- `print(\"If condition is true, then it's code running\"):`\n",
    "    This line is indented, which means it belongs to the if block.\n",
    "    It will run only if the if condition is true.\n",
    "    Since the condition is literally True, the message will always be printed."
   ]
  },
  {
   "cell_type": "code",
   "execution_count": 3,
   "id": "c8aba412",
   "metadata": {},
   "outputs": [
    {
     "name": "stdout",
     "output_type": "stream",
     "text": [
      "If condition is true, then it's code running\n"
     ]
    }
   ],
   "source": [
    "if True:\n",
    "    print(\"If condition is true, then it's code running\")\n"
   ]
  }
 ],
 "metadata": {
  "kernelspec": {
   "display_name": ".venv",
   "language": "python",
   "name": "python3"
  },
  "language_info": {
   "codemirror_mode": {
    "name": "ipython",
    "version": 3
   },
   "file_extension": ".py",
   "mimetype": "text/x-python",
   "name": "python",
   "nbconvert_exporter": "python",
   "pygments_lexer": "ipython3",
   "version": "3.13.5"
  }
 },
 "nbformat": 4,
 "nbformat_minor": 5
}
