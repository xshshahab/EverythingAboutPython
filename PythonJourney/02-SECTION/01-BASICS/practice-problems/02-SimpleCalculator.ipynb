{
 "cells": [
  {
   "cell_type": "code",
   "execution_count": 1,
   "id": "b2671e31",
   "metadata": {},
   "outputs": [
    {
     "name": "stdout",
     "output_type": "stream",
     "text": [
      "Select operation:\n",
      "1. Addition (+)\n",
      "2. Subtraction (-)\n",
      "3. Multiplication (*)\n",
      "4. Division (/)\n",
      "Result: 462\n"
     ]
    }
   ],
   "source": [
    "# Simple Calculator using if-else\n",
    "\n",
    "num1 = int(input(\"Enter the first number: \"))\n",
    "num2 = int(input(\"Enter the second number: \"))\n",
    "\n",
    "print(\"Select operation:\")\n",
    "print(\"1. Addition (+)\")\n",
    "print(\"2. Subtraction (-)\")\n",
    "print(\"3. Multiplication (*)\")\n",
    "print(\"4. Division (/)\")\n",
    "\n",
    "choice = input(\"Enter choice (1/2/3/4): \")\n",
    "\n",
    "if choice == '1':\n",
    "    result = num1 + num2\n",
    "    print(\"Result:\", result)\n",
    "elif choice == '2':\n",
    "    result = num1 - num2\n",
    "    print(\"Result:\", result)\n",
    "elif choice == '3':\n",
    "    result = num1 * num2\n",
    "    print(\"Result:\", result)\n",
    "elif choice == '4':\n",
    "    if num2 != 0:\n",
    "        result = num1 / num2\n",
    "        print(\"Result:\", result)\n",
    "    else:\n",
    "        print(\"Error: Cannot divide by zero.\")\n",
    "else:\n",
    "    print(\"Invalid input. Please choose a valid option.\")\n"
   ]
  },
  {
   "cell_type": "code",
   "execution_count": 2,
   "id": "37461e36",
   "metadata": {},
   "outputs": [
    {
     "name": "stdout",
     "output_type": "stream",
     "text": [
      "Result: 42\n"
     ]
    }
   ],
   "source": [
    "# Simple Calculator using if-else\n",
    "\n",
    "num1 = int(input(\"Enter the first number: \"))\n",
    "operator = input(\"Enter an operator (+, -, *, /): \")\n",
    "num2 = int(input(\"Enter the second number: \"))\n",
    "\n",
    "if operator == '+':\n",
    "    print(\"Result:\", num1 + num2)\n",
    "elif operator == '-':\n",
    "    print(\"Result:\", num1 - num2)\n",
    "elif operator == '*':\n",
    "    print(\"Result:\", num1 * num2)\n",
    "elif operator == '/':\n",
    "    if num2 != 0:\n",
    "        print(\"Result:\", num1 / num2)\n",
    "    else:\n",
    "        print(\"Error: Cannot divide by zero.\")\n",
    "else:\n",
    "    print(\"Invalid operator.\")\n"
   ]
  }
 ],
 "metadata": {
  "kernelspec": {
   "display_name": ".venv",
   "language": "python",
   "name": "python3"
  },
  "language_info": {
   "codemirror_mode": {
    "name": "ipython",
    "version": 3
   },
   "file_extension": ".py",
   "mimetype": "text/x-python",
   "name": "python",
   "nbconvert_exporter": "python",
   "pygments_lexer": "ipython3",
   "version": "3.13.5"
  }
 },
 "nbformat": 4,
 "nbformat_minor": 5
}
