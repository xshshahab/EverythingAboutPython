{
 "cells": [
  {
   "cell_type": "markdown",
   "id": "c85fa4c9",
   "metadata": {},
   "source": [
    "## Nested Conditional Statements\n",
    "\n",
    "Nested conditional statements are if, elif, or else blocks written inside another if, elif, or else block. This structure allows you to make decisions within decisions.\n",
    "\n",
    "### syntax\n",
    "```python\n",
    "if condition1:\n",
    "    # outer if block\n",
    "    if condition2:\n",
    "        # inner if block\n",
    "        # do something\n",
    "    else:\n",
    "        # inner else block\n",
    "        # do something else\n",
    "else:\n",
    "    # outer else block\n",
    "    # do something different\n",
    "```"
   ]
  },
  {
   "cell_type": "code",
   "execution_count": 1,
   "id": "9b4d025e",
   "metadata": {},
   "outputs": [
    {
     "name": "stdout",
     "output_type": "stream",
     "text": [
      "You passed the exam.\n",
      "Grade: B\n"
     ]
    }
   ],
   "source": [
    "score = 85\n",
    "\n",
    "if score >= 60:\n",
    "    print(\"You passed the exam.\")\n",
    "    \n",
    "    if score >= 90:\n",
    "        print(\"Grade: A\")\n",
    "    elif score >= 80:\n",
    "        print(\"Grade: B\")\n",
    "    elif score >= 70:\n",
    "        print(\"Grade: C\")\n",
    "    else:\n",
    "        print(\"Grade: D\")\n",
    "else:\n",
    "    print(\"You failed the exam.\")\n",
    "    if score >= 50:\n",
    "        print(\"But you were close! Grade: E\")\n",
    "    else:\n",
    "        print(\"Grade: F\")\n"
   ]
  },
  {
   "cell_type": "code",
   "execution_count": 2,
   "id": "6c1e5438",
   "metadata": {},
   "outputs": [
    {
     "name": "stdout",
     "output_type": "stream",
     "text": [
      "The number is positive.\n",
      "It is odd.\n"
     ]
    }
   ],
   "source": [
    "# Take a number from the user\n",
    "num = int(input(\"Enter a number: \"))\n",
    "\n",
    "if num > 0:\n",
    "    print(\"The number is positive.\")\n",
    "    \n",
    "    if num % 2 == 0:\n",
    "        print(\"It is even.\")\n",
    "    else:\n",
    "        print(\"It is odd.\")\n",
    "\n",
    "elif num < 0:\n",
    "    print(\"The number is negative.\")\n",
    "    \n",
    "    if num % 2 == 0:\n",
    "        print(\"It is even.\")\n",
    "    else:\n",
    "        print(\"It is odd.\")\n",
    "\n",
    "else:\n",
    "    print(\"The number is zero.\")\n",
    "    print(\"Zero is considered even.\")\n"
   ]
  }
 ],
 "metadata": {
  "kernelspec": {
   "display_name": ".venv",
   "language": "python",
   "name": "python3"
  },
  "language_info": {
   "codemirror_mode": {
    "name": "ipython",
    "version": 3
   },
   "file_extension": ".py",
   "mimetype": "text/x-python",
   "name": "python",
   "nbconvert_exporter": "python",
   "pygments_lexer": "ipython3",
   "version": "3.13.5"
  }
 },
 "nbformat": 4,
 "nbformat_minor": 5
}
