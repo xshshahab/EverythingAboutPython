{
 "cells": [
  {
   "cell_type": "markdown",
   "id": "20cd383d",
   "metadata": {},
   "source": [
    "## Else Statement\n",
    "\n",
    "# Python `else` Statement\n",
    "\n",
    "The `else` statement in Python is used to define a block of code that will be executed **if the condition(s) in the `if` statement are not true**.\n",
    "\n",
    "## Syntax\n",
    "\n",
    "```python\n",
    "if condition:\n",
    "    # code to run if condition is True\n",
    "else:\n",
    "    # code to run if condition is False\n",
    "```\n",
    "\n",
    "### Example\n",
    "```python\n",
    "age = 17\n",
    "\n",
    "if age >= 18:\n",
    "    print(\"You are an adult.\")\n",
    "else:\n",
    "    print(\"You are a minor.\")\n",
    "```\n",
    "\n",
    "### Output:\n",
    "```text\n",
    "You are a minor.\n",
    "```\n",
    "\n",
    "## Notes\n",
    "- The `else` block is optional.\n",
    "- It must follow an `if` or `elif` block.\n"
   ]
  },
  {
   "cell_type": "code",
   "execution_count": 2,
   "id": "ff154689",
   "metadata": {},
   "outputs": [
    {
     "name": "stdout",
     "output_type": "stream",
     "text": [
      "You're not eligible for vote this year.\n"
     ]
    }
   ],
   "source": [
    "age=10\n",
    "\n",
    "if age >= 18:\n",
    "    print(\"You're eligible for vote in this election\")\n",
    "else:\n",
    "    print(\"You're not eligible for vote this year.\")"
   ]
  }
 ],
 "metadata": {
  "kernelspec": {
   "display_name": ".venv",
   "language": "python",
   "name": "python3"
  },
  "language_info": {
   "codemirror_mode": {
    "name": "ipython",
    "version": 3
   },
   "file_extension": ".py",
   "mimetype": "text/x-python",
   "name": "python",
   "nbconvert_exporter": "python",
   "pygments_lexer": "ipython3",
   "version": "3.13.5"
  }
 },
 "nbformat": 4,
 "nbformat_minor": 5
}
