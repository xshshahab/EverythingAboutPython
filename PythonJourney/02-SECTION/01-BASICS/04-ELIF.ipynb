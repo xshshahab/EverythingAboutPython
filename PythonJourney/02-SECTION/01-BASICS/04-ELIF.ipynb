{
 "cells": [
  {
   "cell_type": "markdown",
   "id": "900c872e",
   "metadata": {},
   "source": [
    "# `elif` in Python\n",
    "\n",
    "In Python, `elif` stands for **\"else if\"**. It is used to check multiple conditions after an initial `if` statement. If the `if` condition is `False`, Python checks each `elif` in order. If one of them is `True`, that block is executed, and the rest are skipped.\n",
    "\n",
    "---\n",
    "\n",
    "## Syntax\n",
    "\n",
    "```python\n",
    "if condition1:\n",
    "    # Executes if condition1 is True\n",
    "elif condition2:\n",
    "    # Executes if condition1 is False and condition2 is True\n",
    "elif condition3:\n",
    "    # Executes if all previous conditions are False and condition3 is True\n",
    "else:\n",
    "    # Executes if none of the above conditions are True\n",
    "```"
   ]
  },
  {
   "cell_type": "code",
   "execution_count": 1,
   "id": "27474c60",
   "metadata": {},
   "outputs": [
    {
     "name": "stdout",
     "output_type": "stream",
     "text": [
      "You're an adult\n"
     ]
    }
   ],
   "source": [
    "## elif\n",
    "\n",
    "age = 20\n",
    "\n",
    "if age<13:\n",
    "    print(\"You're a child\")\n",
    "elif age<18:\n",
    "    print(\"You're a tenager\")\n",
    "elif age<25:\n",
    "    print(\"You're an adult\")\n",
    "else :\n",
    "    print(\"You're an old\")"
   ]
  }
 ],
 "metadata": {
  "kernelspec": {
   "display_name": ".venv",
   "language": "python",
   "name": "python3"
  },
  "language_info": {
   "codemirror_mode": {
    "name": "ipython",
    "version": 3
   },
   "file_extension": ".py",
   "mimetype": "text/x-python",
   "name": "python",
   "nbconvert_exporter": "python",
   "pygments_lexer": "ipython3",
   "version": "3.13.5"
  }
 },
 "nbformat": 4,
 "nbformat_minor": 5
}
