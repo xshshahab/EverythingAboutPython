{
 "cells": [
  {
   "cell_type": "markdown",
   "id": "4d8a41e1",
   "metadata": {},
   "source": [
    "# Conditional Statements in Python (`if`, `elif`, `else`)\n",
    "\n",
    "Conditional statements in Python allow you to execute certain blocks of code depending on whether a condition is `True` or `False`.\n",
    "\n",
    "## Syntax\n",
    "\n",
    "```python\n",
    "if condition1:\n",
    "    # Code block executed if condition1 is True\n",
    "elif condition2:\n",
    "    # Code block executed if condition2 is True\n",
    "else:\n",
    "    # Code block executed if all above conditions are False\n",
    "```\n",
    "\n",
    "---"
   ]
  },
  {
   "cell_type": "markdown",
   "id": "69a8e3d4",
   "metadata": {},
   "source": [
    "### Example\n",
    "\n",
    "```python\n",
    "age = 20\n",
    "\n",
    "if age < 18:\n",
    "    print(\"You are a minor.\")\n",
    "elif age >= 18 and age < 65:\n",
    "    print(\"You are an adult.\")\n",
    "else:\n",
    "    print(\"You are a senior citizen.\")\n",
    "```\n",
    "\n",
    "#### Output\n",
    "```plaintext\n",
    "You are an adult.\n",
    "```"
   ]
  },
  {
   "cell_type": "markdown",
   "id": "292a4970",
   "metadata": {},
   "source": [
    "---\n",
    "\n",
    "## Explanation\n",
    "\n",
    "The `if` statement checks the first condition.\n",
    "\n",
    "The `elif` (else if) checks another condition if the previous `if` was False.\n",
    "\n",
    "The `else` block runs if none of the previous conditions are True.\n",
    "\n",
    "You can use multiple `elif` blocks to check several conditions. The `else` block is optional but useful for a default fallback when none of the other conditions are met.\n"
   ]
  }
 ],
 "metadata": {
  "language_info": {
   "name": "python"
  }
 },
 "nbformat": 4,
 "nbformat_minor": 5
}
