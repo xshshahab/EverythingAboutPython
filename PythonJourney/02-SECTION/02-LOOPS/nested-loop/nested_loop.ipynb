{
 "cells": [
  {
   "cell_type": "code",
   "execution_count": 1,
   "id": "5a559015",
   "metadata": {},
   "outputs": [
    {
     "name": "stdout",
     "output_type": "stream",
     "text": [
      "i: 0 and j: 0\n",
      "i: 0 and j: 1\n",
      "i: 1 and j: 0\n",
      "i: 1 and j: 1\n",
      "i: 2 and j: 0\n",
      "i: 2 and j: 1\n"
     ]
    }
   ],
   "source": [
    "## Nested Loop\n",
    "#   => A loop inside a loop\n",
    "\n",
    "for i in range(3):\n",
    "    for j in range(2):\n",
    "        print(f\"i: {i} and j: {j}\")"
   ]
  }
 ],
 "metadata": {
  "kernelspec": {
   "display_name": ".venv",
   "language": "python",
   "name": "python3"
  },
  "language_info": {
   "codemirror_mode": {
    "name": "ipython",
    "version": 3
   },
   "file_extension": ".py",
   "mimetype": "text/x-python",
   "name": "python",
   "nbconvert_exporter": "python",
   "pygments_lexer": "ipython3",
   "version": "3.13.5"
  }
 },
 "nbformat": 4,
 "nbformat_minor": 5
}
