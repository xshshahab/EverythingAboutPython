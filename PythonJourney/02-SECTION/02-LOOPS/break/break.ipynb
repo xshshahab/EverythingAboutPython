{
 "cells": [
  {
   "cell_type": "markdown",
   "id": "38703bb4",
   "metadata": {},
   "source": [
    "## BREAK STATEMENT IN LOOPS\n",
    "\n",
    "The break statements exits the loop permaturely.\n",
    "\n",
    "### syntax\n",
    "\n",
    "for item in iterable:\n",
    "    if condition:\n",
    "        break  # exit the loop early\n",
    "    # more code\n",
    "\n",
    "#### OR\n",
    "\n",
    "while condition:\n",
    "    if other_condition:\n",
    "        break  # exit the loop early\n",
    "    # more code\n"
   ]
  },
  {
   "cell_type": "code",
   "execution_count": 1,
   "id": "38e90b45",
   "metadata": {},
   "outputs": [
    {
     "name": "stdout",
     "output_type": "stream",
     "text": [
      "0\n",
      "1\n",
      "2\n",
      "3\n",
      "4\n"
     ]
    }
   ],
   "source": [
    "for i in range(10):\n",
    "    if i == 5:\n",
    "        break\n",
    "    print(i)"
   ]
  },
  {
   "cell_type": "code",
   "execution_count": 2,
   "id": "07f3cb42",
   "metadata": {},
   "outputs": [
    {
     "name": "stdout",
     "output_type": "stream",
     "text": [
      "0\n",
      "1\n",
      "2\n"
     ]
    }
   ],
   "source": [
    "i = 0\n",
    "while i < 10:\n",
    "    if i == 3:\n",
    "        break\n",
    "    print(i)\n",
    "    i += 1\n"
   ]
  }
 ],
 "metadata": {
  "kernelspec": {
   "display_name": ".venv",
   "language": "python",
   "name": "python3"
  },
  "language_info": {
   "codemirror_mode": {
    "name": "ipython",
    "version": 3
   },
   "file_extension": ".py",
   "mimetype": "text/x-python",
   "name": "python",
   "nbconvert_exporter": "python",
   "pygments_lexer": "ipython3",
   "version": "3.13.5"
  }
 },
 "nbformat": 4,
 "nbformat_minor": 5
}
