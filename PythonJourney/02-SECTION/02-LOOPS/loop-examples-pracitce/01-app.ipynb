{
 "cells": [
  {
   "cell_type": "code",
   "execution_count": null,
   "id": "449a77df",
   "metadata": {},
   "outputs": [],
   "source": [
    "# Calculate the sum of first N natural number using a while and for loop"
   ]
  },
  {
   "cell_type": "code",
   "execution_count": 2,
   "id": "1db6930c",
   "metadata": {},
   "outputs": [
    {
     "name": "stdout",
     "output_type": "stream",
     "text": [
      "55\n"
     ]
    }
   ],
   "source": [
    "## while loop\n",
    "\n",
    "number = int(input(\"Enter the number\"))\n",
    "i =0\n",
    "sum=0\n",
    "\n",
    "while i<=number:\n",
    "    sum = sum + i\n",
    "    i = i + 1\n",
    "print(sum)"
   ]
  },
  {
   "cell_type": "code",
   "execution_count": 5,
   "id": "964531ac",
   "metadata": {},
   "outputs": [
    {
     "name": "stdout",
     "output_type": "stream",
     "text": [
      "55\n"
     ]
    }
   ],
   "source": [
    "## for loop\n",
    "\n",
    "n = int(input(\"Enter the number: \"))\n",
    "\n",
    "sum=0\n",
    "for i in range(n + 1):\n",
    "    sum = sum + i\n",
    "\n",
    "print(sum)"
   ]
  }
 ],
 "metadata": {
  "kernelspec": {
   "display_name": ".venv",
   "language": "python",
   "name": "python3"
  },
  "language_info": {
   "codemirror_mode": {
    "name": "ipython",
    "version": 3
   },
   "file_extension": ".py",
   "mimetype": "text/x-python",
   "name": "python",
   "nbconvert_exporter": "python",
   "pygments_lexer": "ipython3",
   "version": "3.13.5"
  }
 },
 "nbformat": 4,
 "nbformat_minor": 5
}
