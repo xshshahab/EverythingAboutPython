{
 "cells": [
  {
   "cell_type": "markdown",
   "id": "ccfcac33",
   "metadata": {},
   "source": [
    "## What is pass in python\n",
    "\n",
    "In Python, `pass` is a **null statement**. It acts as a placeholder where syntactically some code is required but you don’t want to execute anything.\n",
    "\n",
    "### Common Use Cases:\n",
    "\n",
    "1. **Empty function or class definitions** (to be implemented later):\n",
    "\n",
    "   ```python\n",
    "   def my_function():\n",
    "       pass\n",
    "\n",
    "   class MyClass:\n",
    "       pass\n",
    "   ```\n",
    "\n",
    "2. **Stub for future code**:\n",
    "\n",
    "   ```python\n",
    "   for i in range(5):\n",
    "       pass  # TODO: add logic later\n",
    "   ```\n",
    "\n",
    "3. **Placeholders in conditionals**:\n",
    "\n",
    "   ```python\n",
    "   if some_condition:\n",
    "       pass\n",
    "   else:\n",
    "       print(\"Condition not met\")\n",
    "   ```\n",
    "\n",
    "### Why Not Just Leave It Blank?\n",
    "\n",
    "Python requires that indented blocks have at least one statement. `pass` satisfies that requirement without doing anything.\n",
    "\n",
    "### Summary:\n",
    "\n",
    "* `pass` does **nothing**.\n",
    "* It's useful as a syntactic placeholder.\n",
    "* Helps avoid errors when structure is needed but logic isn’t ready.\n"
   ]
  },
  {
   "cell_type": "code",
   "execution_count": 1,
   "id": "898fc518",
   "metadata": {},
   "outputs": [
    {
     "name": "stdout",
     "output_type": "stream",
     "text": [
      "0\n",
      "1\n",
      "2\n",
      "3\n",
      "4\n",
      "5\n",
      "6\n",
      "7\n",
      "8\n",
      "9\n"
     ]
    }
   ],
   "source": [
    "for i in range(10):\n",
    "    if i == 3:\n",
    "        pass\n",
    "    print(i)"
   ]
  }
 ],
 "metadata": {
  "kernelspec": {
   "display_name": ".venv",
   "language": "python",
   "name": "python3"
  },
  "language_info": {
   "codemirror_mode": {
    "name": "ipython",
    "version": 3
   },
   "file_extension": ".py",
   "mimetype": "text/x-python",
   "name": "python",
   "nbconvert_exporter": "python",
   "pygments_lexer": "ipython3",
   "version": "3.13.5"
  }
 },
 "nbformat": 4,
 "nbformat_minor": 5
}
