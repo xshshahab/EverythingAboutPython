{
 "cells": [
  {
   "cell_type": "code",
   "execution_count": 1,
   "id": "61b5b865",
   "metadata": {},
   "outputs": [
    {
     "name": "stdout",
     "output_type": "stream",
     "text": [
      "xshshahab\n",
      "<class 'str'>\n"
     ]
    }
   ],
   "source": [
    "## Example of String datatype\n",
    "\n",
    "name=\"xshshahab\"\n",
    "print(name)\n",
    "print(type(name))"
   ]
  },
  {
   "cell_type": "code",
   "execution_count": 2,
   "id": "6e5c4bfb",
   "metadata": {},
   "outputs": [
    {
     "name": "stdout",
     "output_type": "stream",
     "text": [
      "Mohan\n",
      "<class 'str'>\n"
     ]
    }
   ],
   "source": [
    "take_name = input(\"Enter your name : \")\n",
    "print(take_name)\n",
    "\n",
    "print(type(take_name))"
   ]
  }
 ],
 "metadata": {
  "kernelspec": {
   "display_name": ".venv",
   "language": "python",
   "name": "python3"
  },
  "language_info": {
   "codemirror_mode": {
    "name": "ipython",
    "version": 3
   },
   "file_extension": ".py",
   "mimetype": "text/x-python",
   "name": "python",
   "nbconvert_exporter": "python",
   "pygments_lexer": "ipython3",
   "version": "3.13.5"
  }
 },
 "nbformat": 4,
 "nbformat_minor": 5
}
