{
 "cells": [
  {
   "cell_type": "code",
   "execution_count": 1,
   "id": "2be8ca74",
   "metadata": {},
   "outputs": [
    {
     "name": "stdout",
     "output_type": "stream",
     "text": [
      "True <class 'bool'>\n"
     ]
    }
   ],
   "source": [
    "## Boolean Type Example\n",
    "\n",
    "is_college_student = True\n",
    "\n",
    "print(is_college_student, type(is_college_student))"
   ]
  },
  {
   "cell_type": "code",
   "execution_count": null,
   "id": "e62f70c5",
   "metadata": {},
   "outputs": [
    {
     "data": {
      "text/plain": [
       "False"
      ]
     },
     "execution_count": 3,
     "metadata": {},
     "output_type": "execute_result"
    }
   ],
   "source": [
    "bool()\n",
    "\n",
    "## by default it's false"
   ]
  },
  {
   "cell_type": "code",
   "execution_count": 2,
   "id": "2dca7837",
   "metadata": {},
   "outputs": [
    {
     "name": "stdout",
     "output_type": "stream",
     "text": [
      "False\n"
     ]
    }
   ],
   "source": [
    "is_bool = bool()\n",
    "\n",
    "print(is_bool)"
   ]
  },
  {
   "cell_type": "code",
   "execution_count": null,
   "id": "77f9abf6",
   "metadata": {},
   "outputs": [
    {
     "name": "stdout",
     "output_type": "stream",
     "text": [
      "True\n",
      "<class 'bool'>\n"
     ]
    }
   ],
   "source": [
    "a = 10\n",
    "b = 10\n",
    "\n",
    "type(a == b)\n",
    "\n",
    "print(a == b)\n",
    "print(type(a == b)) "
   ]
  }
 ],
 "metadata": {
  "kernelspec": {
   "display_name": ".venv",
   "language": "python",
   "name": "python3"
  },
  "language_info": {
   "codemirror_mode": {
    "name": "ipython",
    "version": 3
   },
   "file_extension": ".py",
   "mimetype": "text/x-python",
   "name": "python",
   "nbconvert_exporter": "python",
   "pygments_lexer": "ipython3",
   "version": "3.13.5"
  }
 },
 "nbformat": 4,
 "nbformat_minor": 5
}
