{
 "cells": [
  {
   "cell_type": "code",
   "execution_count": null,
   "id": "0e777934",
   "metadata": {},
   "outputs": [
    {
     "name": "stdout",
     "output_type": "stream",
     "text": [
      "35 <class 'int'>\n"
     ]
    }
   ],
   "source": [
    "## Integers Example\n",
    "\n",
    "age=35\n",
    "print(age, type(age))"
   ]
  },
  {
   "cell_type": "code",
   "execution_count": 2,
   "id": "0d7884a5",
   "metadata": {},
   "outputs": [
    {
     "name": "stdout",
     "output_type": "stream",
     "text": [
      "2000 <class 'int'>\n"
     ]
    }
   ],
   "source": [
    "## Integers Example\n",
    "\n",
    "price=2000\n",
    "print(price, type(price))"
   ]
  }
 ],
 "metadata": {
  "kernelspec": {
   "display_name": ".venv",
   "language": "python",
   "name": "python3"
  },
  "language_info": {
   "codemirror_mode": {
    "name": "ipython",
    "version": 3
   },
   "file_extension": ".py",
   "mimetype": "text/x-python",
   "name": "python",
   "nbconvert_exporter": "python",
   "pygments_lexer": "ipython3",
   "version": "3.13.5"
  }
 },
 "nbformat": 4,
 "nbformat_minor": 5
}
