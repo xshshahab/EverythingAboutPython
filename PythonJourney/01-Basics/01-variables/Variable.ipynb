{
 "cells": [
  {
   "cell_type": "code",
   "execution_count": null,
   "id": "5ae47144",
   "metadata": {},
   "outputs": [
    {
     "name": "stdout",
     "output_type": "stream",
     "text": [
      "Hello World\n"
     ]
    }
   ],
   "source": [
    "print(\"Learning Variables!\")"
   ]
  },
  {
   "cell_type": "code",
   "execution_count": 1,
   "id": "3f07ac56",
   "metadata": {},
   "outputs": [
    {
     "name": "stdout",
     "output_type": "stream",
     "text": [
      "Age:  32\n",
      "Height :  6.2\n",
      "Name:  sudhir\n",
      "is admin:  True\n"
     ]
    }
   ],
   "source": [
    "## Declaring and Assigning Variable\n",
    "\n",
    "age = 32\n",
    "height = 6.2\n",
    "name=\"sudhir\"\n",
    "is_admin=True\n",
    "\n",
    "\n",
    "print(\"Age: \", age)\n",
    "print(\"Height : \", height)\n",
    "print(\"Name: \", name)\n",
    "print(\"is admin: \", is_admin)"
   ]
  },
  {
   "cell_type": "code",
   "execution_count": 2,
   "id": "aba28e64",
   "metadata": {},
   "outputs": [
    {
     "name": "stdout",
     "output_type": "stream",
     "text": [
      "100\n"
     ]
    }
   ],
   "source": [
    "a = 100\n",
    "print(a)"
   ]
  },
  {
   "cell_type": "markdown",
   "id": "ec5b15eb",
   "metadata": {},
   "source": [
    "# 🐍 Python Naming Conventions\n",
    "\n",
    "## 1. Variable Names\n",
    "- `lower_case_with_underscores`\n",
    "\n",
    "## 2. Function Names\n",
    "- `lower_case_with_underscores`\n",
    "\n",
    "## 3. Class Names\n",
    "- `CapitalizedWords` (PascalCase)\n",
    "\n",
    "## 4. Constant Names\n",
    "- `ALL_CAPS_WITH_UNDERSCORES`\n",
    "\n",
    "## 5. Module and Package Names\n",
    "- `lowercase` or `lower_case_with_underscores`\n",
    "\n",
    "## 6. Global Variables\n",
    "- `lower_case_with_underscores`\n",
    "\n",
    "## 7. Private/Internal Names\n",
    "- Start with a single underscore: `_name`\n",
    "\n",
    "## 8. Special or “Magic” Methods\n",
    "- Double underscores before and after: `__name__`\n"
   ]
  }
 ],
 "metadata": {
  "kernelspec": {
   "display_name": ".venv",
   "language": "python",
   "name": "python3"
  },
  "language_info": {
   "codemirror_mode": {
    "name": "ipython",
    "version": 3
   },
   "file_extension": ".py",
   "mimetype": "text/x-python",
   "name": "python",
   "nbconvert_exporter": "python",
   "pygments_lexer": "ipython3",
   "version": "3.13.5"
  }
 },
 "nbformat": 4,
 "nbformat_minor": 5
}
