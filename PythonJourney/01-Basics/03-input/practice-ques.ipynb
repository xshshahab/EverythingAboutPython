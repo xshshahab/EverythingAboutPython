{
 "cells": [
  {
   "cell_type": "code",
   "execution_count": 1,
   "id": "163616dd",
   "metadata": {},
   "outputs": [
    {
     "name": "stdout",
     "output_type": "stream",
     "text": [
      "Sum of two number is :  42.0\n",
      "Difference of two number is :  0.0\n",
      "Product of two number is :  441.0\n",
      "Quotient of two number is :  1.0\n"
     ]
    }
   ],
   "source": [
    "## simple calculator\n",
    "\n",
    "number1 = float(input(\"Enter first number : \"))\n",
    "number2 = float(input(\"Enter Second number : \"))\n",
    "\n",
    "sum = number1 + number2\n",
    "difference = number1 - number2\n",
    "product = number1 * number2\n",
    "quotient = number1 / number2\n",
    "\n",
    "print(\"Sum of two number is : \", sum)\n",
    "print(\"Difference of two number is : \", difference)\n",
    "print(\"Product of two number is : \", product)\n",
    "print(\"Quotient of two number is : \", quotient)"
   ]
  }
 ],
 "metadata": {
  "kernelspec": {
   "display_name": ".venv",
   "language": "python",
   "name": "python3"
  },
  "language_info": {
   "codemirror_mode": {
    "name": "ipython",
    "version": 3
   },
   "file_extension": ".py",
   "mimetype": "text/x-python",
   "name": "python",
   "nbconvert_exporter": "python",
   "pygments_lexer": "ipython3",
   "version": "3.13.5"
  }
 },
 "nbformat": 4,
 "nbformat_minor": 5
}
