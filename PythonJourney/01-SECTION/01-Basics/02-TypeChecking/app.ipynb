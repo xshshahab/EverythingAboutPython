{
 "cells": [
  {
   "cell_type": "code",
   "execution_count": 2,
   "id": "21c63a98",
   "metadata": {},
   "outputs": [
    {
     "name": "stdout",
     "output_type": "stream",
     "text": [
      "<class 'float'>\n",
      "<class 'str'>\n"
     ]
    }
   ],
   "source": [
    "## Type Checking and conversion\n",
    "\n",
    "height =4.5\n",
    "\n",
    "print(type(height))\n",
    "\n",
    "name = \"mohan\"\n",
    "print(type(name))"
   ]
  },
  {
   "cell_type": "code",
   "execution_count": 5,
   "id": "098e9d6a",
   "metadata": {},
   "outputs": [
    {
     "name": "stdout",
     "output_type": "stream",
     "text": [
      "<class 'int'>\n",
      "21\n",
      "<class 'str'>\n"
     ]
    }
   ],
   "source": [
    "age = 21\n",
    "print(type(age))\n",
    "\n",
    "age_str = str(age)\n",
    "print(age_str)\n",
    "print(type(age_str))"
   ]
  },
  {
   "cell_type": "code",
   "execution_count": 6,
   "id": "c3cb520b",
   "metadata": {},
   "outputs": [
    {
     "name": "stdout",
     "output_type": "stream",
     "text": [
      "21 <class 'int'>\n",
      "21 <class 'str'>\n",
      "21.22 <class 'float'>\n"
     ]
    }
   ],
   "source": [
    "s = 21\n",
    "print(s, type(s))\n",
    "\n",
    "s = \"21\"\n",
    "print(s, type(s))\n",
    "\n",
    "s = 21.22\n",
    "print(s, type(s))"
   ]
  }
 ],
 "metadata": {
  "kernelspec": {
   "display_name": ".venv",
   "language": "python",
   "name": "python3"
  },
  "language_info": {
   "codemirror_mode": {
    "name": "ipython",
    "version": 3
   },
   "file_extension": ".py",
   "mimetype": "text/x-python",
   "name": "python",
   "nbconvert_exporter": "python",
   "pygments_lexer": "ipython3",
   "version": "3.13.5"
  }
 },
 "nbformat": 4,
 "nbformat_minor": 5
}
