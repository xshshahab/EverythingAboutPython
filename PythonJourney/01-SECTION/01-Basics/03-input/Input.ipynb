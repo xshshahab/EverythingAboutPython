{
 "cells": [
  {
   "cell_type": "code",
   "execution_count": 3,
   "id": "70b8f537",
   "metadata": {},
   "outputs": [
    {
     "name": "stdout",
     "output_type": "stream",
     "text": [
      "Your age is :  21\n",
      "<class 'str'>\n",
      "Now your actual age is in number:  21 <class 'int'>\n"
     ]
    }
   ],
   "source": [
    "## INPUT\n",
    "\n",
    "age = input(\"What's your age: \")\n",
    "print(\"Your age is : \", age)\n",
    "print(type(age))\n",
    "\n",
    "final_age = int(age)\n",
    "print(\"Now your actual age is in number: \", final_age, type(final_age))"
   ]
  },
  {
   "cell_type": "code",
   "execution_count": 4,
   "id": "79d1f8e6",
   "metadata": {},
   "outputs": [
    {
     "name": "stdout",
     "output_type": "stream",
     "text": [
      "Your age is :  21\n",
      "<class 'int'>\n"
     ]
    }
   ],
   "source": [
    "## INPUT\n",
    "\n",
    "age = int(input(\"What's your age: \"))\n",
    "print(\"Your age is : \", age)\n",
    "print(type(age))"
   ]
  }
 ],
 "metadata": {
  "kernelspec": {
   "display_name": ".venv",
   "language": "python",
   "name": "python3"
  },
  "language_info": {
   "codemirror_mode": {
    "name": "ipython",
    "version": 3
   },
   "file_extension": ".py",
   "mimetype": "text/x-python",
   "name": "python",
   "nbconvert_exporter": "python",
   "pygments_lexer": "ipython3",
   "version": "3.13.5"
  }
 },
 "nbformat": 4,
 "nbformat_minor": 5
}
