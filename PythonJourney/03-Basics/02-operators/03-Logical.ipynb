{
 "cells": [
  {
   "cell_type": "markdown",
   "id": "25ffc309",
   "metadata": {},
   "source": [
    "## Logical Operator\n",
    " there are mainly three \n",
    "\n",
    " - AND \n",
    " - OR\n",
    " - NOT"
   ]
  },
  {
   "cell_type": "code",
   "execution_count": 1,
   "id": "82bccd27",
   "metadata": {},
   "outputs": [
    {
     "name": "stdout",
     "output_type": "stream",
     "text": [
      "Result of AND :  True\n"
     ]
    }
   ],
   "source": [
    "# AND\n",
    "\n",
    "X = True\n",
    "Y = True\n",
    "\n",
    "result = X and Y\n",
    "\n",
    "print(\"Result of AND : \", result)"
   ]
  },
  {
   "cell_type": "code",
   "execution_count": null,
   "id": "c6f2a35c",
   "metadata": {},
   "outputs": [
    {
     "name": "stdout",
     "output_type": "stream",
     "text": [
      "Result of AND :  True\n"
     ]
    }
   ],
   "source": [
    "# OR\n",
    "\n",
    "X = True\n",
    "Y = False\n",
    "\n",
    "result = X or Y\n",
    "\n",
    "print(\"Result of OR : \", result)"
   ]
  },
  {
   "cell_type": "code",
   "execution_count": 8,
   "id": "8ece26d2",
   "metadata": {},
   "outputs": [
    {
     "name": "stdout",
     "output_type": "stream",
     "text": [
      "Result1 of NOT :  False\n",
      "Result2 of NOT :  True\n"
     ]
    }
   ],
   "source": [
    "# NOT\n",
    "\n",
    "X = True\n",
    "Y = False\n",
    "\n",
    "result1 =  not X\n",
    "result2 =  not Y\n",
    "\n",
    "print(\"Result1 of NOT : \", result1)\n",
    "print(\"Result2 of NOT : \", result2)"
   ]
  }
 ],
 "metadata": {
  "kernelspec": {
   "display_name": ".venv",
   "language": "python",
   "name": "python3"
  },
  "language_info": {
   "codemirror_mode": {
    "name": "ipython",
    "version": 3
   },
   "file_extension": ".py",
   "mimetype": "text/x-python",
   "name": "python",
   "nbconvert_exporter": "python",
   "pygments_lexer": "ipython3",
   "version": "3.13.5"
  }
 },
 "nbformat": 4,
 "nbformat_minor": 5
}
