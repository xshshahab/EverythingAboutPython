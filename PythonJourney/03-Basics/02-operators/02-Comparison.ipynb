{
 "cells": [
  {
   "cell_type": "code",
   "execution_count": 3,
   "id": "b208df50",
   "metadata": {},
   "outputs": [
    {
     "name": "stdout",
     "output_type": "stream",
     "text": [
      "Equal to :  True\n"
     ]
    }
   ],
   "source": [
    "# Comparison Operators\n",
    "\n",
    "## double equal to [ == ]\n",
    "\n",
    "a = 10\n",
    "b = 10\n",
    "\n",
    "print(\"Equal to : \" , a == b)"
   ]
  },
  {
   "cell_type": "code",
   "execution_count": 5,
   "id": "a1b9acf4",
   "metadata": {},
   "outputs": [
    {
     "name": "stdout",
     "output_type": "stream",
     "text": [
      "Equal of string =  True\n"
     ]
    }
   ],
   "source": [
    "str1=\"Mohan\"\n",
    "str2=\"Mohan\"\n",
    "\n",
    "print(\"Equal of string = \", str1 == str2)"
   ]
  },
  {
   "cell_type": "code",
   "execution_count": 6,
   "id": "c8098851",
   "metadata": {},
   "outputs": [
    {
     "name": "stdout",
     "output_type": "stream",
     "text": [
      "Equal to :  False\n"
     ]
    }
   ],
   "source": [
    "\n",
    "## not equal to [ != ]\n",
    "\n",
    "a = 10\n",
    "b = 10\n",
    "\n",
    "print(\"Equal to : \" , a != b)"
   ]
  },
  {
   "cell_type": "code",
   "execution_count": 11,
   "id": "7e78f499",
   "metadata": {},
   "outputs": [
    {
     "name": "stdout",
     "output_type": "stream",
     "text": [
      "Greate that :  False\n"
     ]
    }
   ],
   "source": [
    "# Greater than [ > ]\n",
    "num1 = 45\n",
    "num2 = 50\n",
    "\n",
    "\n",
    "result = num1 > num2\n",
    "\n",
    "print(\"Greate that : \", result)"
   ]
  },
  {
   "cell_type": "code",
   "execution_count": 12,
   "id": "c13d1b4c",
   "metadata": {},
   "outputs": [
    {
     "name": "stdout",
     "output_type": "stream",
     "text": [
      "Greate that :  True\n"
     ]
    }
   ],
   "source": [
    "# Greater than or equal to [ >= ]\n",
    "num1 = 50\n",
    "num2 = 50\n",
    "\n",
    "\n",
    "result = num1 >= num2\n",
    "\n",
    "print(\"Greate that : \", result)"
   ]
  },
  {
   "cell_type": "code",
   "execution_count": 9,
   "id": "44def0ed",
   "metadata": {},
   "outputs": [
    {
     "name": "stdout",
     "output_type": "stream",
     "text": [
      "Lesser that :  True\n"
     ]
    }
   ],
   "source": [
    "# Lesser than [ < ]\n",
    "num1 = 45\n",
    "num2 = 65\n",
    "\n",
    "\n",
    "result = num1 < num2\n",
    "\n",
    "print(\"Lesser that : \", result)"
   ]
  },
  {
   "cell_type": "code",
   "execution_count": 13,
   "id": "a7b78fb5",
   "metadata": {},
   "outputs": [
    {
     "name": "stdout",
     "output_type": "stream",
     "text": [
      "Lesser that :  True\n"
     ]
    }
   ],
   "source": [
    "\n",
    "# Lesser than [ <= ]\n",
    "num1 = 65\n",
    "num2 = 65\n",
    "\n",
    "\n",
    "result = num1 <= num2\n",
    "\n",
    "print(\"Lesser that : \", result)"
   ]
  }
 ],
 "metadata": {
  "kernelspec": {
   "display_name": ".venv",
   "language": "python",
   "name": "python3"
  },
  "language_info": {
   "codemirror_mode": {
    "name": "ipython",
    "version": 3
   },
   "file_extension": ".py",
   "mimetype": "text/x-python",
   "name": "python",
   "nbconvert_exporter": "python",
   "pygments_lexer": "ipython3",
   "version": "3.13.5"
  }
 },
 "nbformat": 4,
 "nbformat_minor": 5
}
