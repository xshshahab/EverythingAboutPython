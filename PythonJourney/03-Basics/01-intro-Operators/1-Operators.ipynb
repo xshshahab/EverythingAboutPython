{
 "cells": [
  {
   "cell_type": "markdown",
   "id": "822bf788",
   "metadata": {},
   "source": [
    "## Operators\n",
    "\n",
    "operators are special symbols or keywords used to perform operations on variables and values. Here's a breakdown of the main types of operators:\n",
    "\n"
   ]
  },
  {
   "cell_type": "markdown",
   "id": "c6f5007a",
   "metadata": {},
   "source": [
    "# 1. Arithmetic Operators\n",
    "Used to perform mathematical operations:\n",
    "\n",
    "| Operator | Description         | Example (`a = 10`, `b = 3`) | Result |\n",
    "| -------- | ------------------- | --------------------------- | ------ |\n",
    "| `+`      | Addition            | `a + b`                     | `13`   |\n",
    "| `-`      | Subtraction         | `a - b`                     | `7`    |\n",
    "| `*`      | Multiplication      | `a * b`                     | `30`   |\n",
    "| `/`      | Division            | `a / b`                     | `3.33` |\n",
    "| `//`     | Floor Division      | `a // b`                    | `3`    |\n",
    "| `%`      | Modulus (remainder) | `a % b`                     | `1`    |\n",
    "| `**`     | Exponentiation      | `a ** b`                    | `1000` |\n"
   ]
  },
  {
   "cell_type": "markdown",
   "id": "041097a0",
   "metadata": {},
   "source": [
    "## 2. Comparison (Relational) Operators\n",
    "Used to compare values:\n",
    "\n",
    "| Operator | Description      | Example  | Result  |\n",
    "| -------- | ---------------- | -------- | ------- |\n",
    "| `==`     | Equal to         | `a == b` | `False` |\n",
    "| `!=`     | Not equal to     | `a != b` | `True`  |\n",
    "| `>`      | Greater than     | `a > b`  | `True`  |\n",
    "| `<`      | Less than        | `a < b`  | `False` |\n",
    "| `>=`     | Greater or equal | `a >= b` | `True`  |\n",
    "| `<=`     | Less or equal    | `a <= b` | `False` |\n"
   ]
  },
  {
   "cell_type": "markdown",
   "id": "a5171bb2",
   "metadata": {},
   "source": [
    "# 3. Logical Operators\n",
    "Used to combine conditional statements:\n",
    "\n",
    "| Operator | Description                  | Example           | Result  |\n",
    "| -------- | ---------------------------- | ----------------- | ------- |\n",
    "| `and`    | True if both are true        | `a > 5 and b < 5` | `True`  |\n",
    "| `or`     | True if at least one is true | `a > 5 or b > 5`  | `True`  |\n",
    "| `not`    | Inverts the result           | `not(a > 5)`      | `False` |\n"
   ]
  },
  {
   "cell_type": "markdown",
   "id": "0879d7a3",
   "metadata": {},
   "source": [
    "# 4. Assignment Operators\n",
    "Used to assign values to variables:\n",
    "\n",
    "| Operator | Example   | Same as      |\n",
    "| -------- | --------- | ------------ |\n",
    "| `=`      | `a = 5`   |              |\n",
    "| `+=`     | `a += 3`  | `a = a + 3`  |\n",
    "| `-=`     | `a -= 2`  | `a = a - 2`  |\n",
    "| `*=`     | `a *= 4`  | `a = a * 4`  |\n",
    "| `/=`     | `a /= 2`  | `a = a / 2`  |\n",
    "| `//=`    | `a //= 3` | `a = a // 3` |\n",
    "| `%=`     | `a %= 2`  | `a = a % 2`  |\n",
    "| `**=`    | `a **= 3` | `a = a ** 3` |\n"
   ]
  },
  {
   "cell_type": "markdown",
   "id": "2e4f9e02",
   "metadata": {},
   "source": [
    "# 5. Bitwise Operators\n",
    "Used to perform operations on binary numbers:\n",
    "\n",
    "| Operator | Description | Example (`a = 5, b = 3`) | Binary Result |       |     |     |\n",
    "| -------- | ----------- | ------------------------ | ------------- | ----- | --- | --- |\n",
    "| `&`      | AND         | `a & b` → `5 & 3`        | `1`           |       |     |     |\n",
    "| \\`       | \\`          | OR                       | \\`a           | b`→`5 | 3\\` | `7` |\n",
    "| `^`      | XOR         | `a ^ b` → `5 ^ 3`        | `6`           |       |     |     |\n",
    "| `~`      | NOT         | `~a`                     | `-6`          |       |     |     |\n",
    "| `<<`     | Left shift  | `a << 1`                 | `10`          |       |     |     |\n",
    "| `>>`     | Right shift | `a >> 1`                 | `2`           |       |     |     |\n"
   ]
  },
  {
   "cell_type": "markdown",
   "id": "029df3ff",
   "metadata": {},
   "source": [
    "# 6. Membership Operators\n",
    "Used to test for presence in a sequence (like a list, string, etc.):\n",
    "\n",
    "| Operator | Description       | Example                       |\n",
    "| -------- | ----------------- | ----------------------------- |\n",
    "| `in`     | True if found     | `'a' in 'apple'` → `True`     |\n",
    "| `not in` | True if not found | `'x' not in 'apple'` → `True` |\n"
   ]
  },
  {
   "cell_type": "markdown",
   "id": "a06bb58f",
   "metadata": {},
   "source": [
    "# 7. Identity Operators\n",
    "Used to compare object identities:\n",
    "\n",
    "| Operator | Description         | Example      |\n",
    "| -------- | ------------------- | ------------ |\n",
    "| `is`     | True if same object | `a is b`     |\n",
    "| `is not` | True if not same    | `a is not b` |\n"
   ]
  }
 ],
 "metadata": {
  "kernelspec": {
   "display_name": ".venv",
   "language": "python",
   "name": "python3"
  },
  "language_info": {
   "name": "python",
   "version": "3.13.5"
  }
 },
 "nbformat": 4,
 "nbformat_minor": 5
}
