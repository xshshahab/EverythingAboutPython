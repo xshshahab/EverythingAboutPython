{
 "cells": [
  {
   "cell_type": "code",
   "execution_count": null,
   "id": "fc1d8a38",
   "metadata": {
    "vscode": {
     "languageId": "plaintext"
    }
   },
   "outputs": [],
   "source": [
    "## Basic Syntax Rules In Python\n",
    "## Case Sensitive - Python is case Sensitive.\n",
    "\n",
    "name = \"Gojo\"\n",
    "Name = \"Gojo2\"\n",
    "\n",
    "print(name)\n",
    "print(Name)"
   ]
  },
  {
   "cell_type": "code",
   "execution_count": null,
   "id": "ae115323",
   "metadata": {
    "vscode": {
     "languageId": "plaintext"
    }
   },
   "outputs": [],
   "source": [
    "## Indentation\n",
    "## Python uses indentation to define blocks of code. Consistent use of spaces (commonly 4) or tab is required.\n",
    "\n",
    "age=21\n",
    "if age>18:\n",
    "    print(\"You're an adult\")"
   ]
  },
  {
   "cell_type": "code",
   "execution_count": null,
   "id": "0b70c3e2",
   "metadata": {
    "vscode": {
     "languageId": "plaintext"
    }
   },
   "outputs": [],
   "source": [
    "## Line Continuation\n",
    "    ## Use a backslash (\\) to continue a statement to the next line.\n",
    "\n",
    "total=1+2+3+4+5+6+\\\n",
    "7+8+9+10\n",
    "\n",
    "print(total)"
   ]
  },
  {
   "cell_type": "code",
   "execution_count": null,
   "id": "551cd296",
   "metadata": {
    "vscode": {
     "languageId": "plaintext"
    }
   },
   "outputs": [],
   "source": [
    "## Multiple statement on a single line\n",
    "\n",
    "x=3;t=10;u=x+t\n",
    "\n",
    "print(u)"
   ]
  },
  {
   "cell_type": "code",
   "execution_count": null,
   "id": "e61ecd74",
   "metadata": {
    "vscode": {
     "languageId": "plaintext"
    }
   },
   "outputs": [],
   "source": [
    "## Understanding Semantics In Python\n",
    "\n",
    "## 01 Variable assignment\n",
    "\n",
    "age=22 ## age is an integer\n",
    "name = \"Alice\"   ## String (text enclosed in quotes)\n",
    "\n",
    "\n",
    "type(age)\n",
    "\n",
    "type(name)\n"
   ]
  },
  {
   "cell_type": "code",
   "execution_count": null,
   "id": "530fe1f6",
   "metadata": {
    "vscode": {
     "languageId": "plaintext"
    }
   },
   "outputs": [],
   "source": [
    "## Type Inference\n",
    "\n",
    "variable = 10\n",
    "print(type(variable))\n",
    "\n",
    "variable = \"Python\"\n",
    "print(type(variable))"
   ]
  },
  {
   "cell_type": "code",
   "execution_count": null,
   "id": "6c8f8e12",
   "metadata": {
    "vscode": {
     "languageId": "plaintext"
    }
   },
   "outputs": [],
   "source": [
    "## Code Examples of Indentation\n",
    "\n",
    "if True:\n",
    "    print(\"Correct Indentation\")\n",
    "    if False:\n",
    "        print(\"This code is never run\")\n",
    "    print(\"This is inside the if code\")\n",
    "print(\"Outside of the if block\")"
   ]
  }
 ],
 "metadata": {
  "language_info": {
   "name": "python"
  }
 },
 "nbformat": 4,
 "nbformat_minor": 5
}
